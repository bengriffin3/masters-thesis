{
 "cells": [
  {
   "cell_type": "markdown",
   "metadata": {},
   "source": [
    "# Normalised recruitment/integration\n",
    "\n",
    "**Last edited:** 06-10-2020"
   ]
  },
  {
   "cell_type": "markdown",
   "metadata": {},
   "source": [
    "Step 0: Loading libraries\n",
    "--------------------------------------------"
   ]
  },
  {
   "cell_type": "code",
   "execution_count": 1,
   "metadata": {
    "scrolled": true
   },
   "outputs": [],
   "source": [
    "import sys\n",
    "sys.path.append(\"..\")\n",
    "import os\n",
    "\n",
    "%matplotlib inline\n",
    "\n",
    "import scipy.io as sio\n",
    "import numpy as np\n",
    "from nilearn import plotting \n",
    "import pandas as pd\n",
    "import seaborn as sns\n",
    "import matplotlib.pyplot as plt\n",
    "import networkx as nx\n",
    "\n",
    "from scipy import stats\n",
    "from fctools import networks, figures\n",
    "\n",
    "\n",
    "\n",
    "#---- matplotlib settings\n",
    "import matplotlib.pyplot as plt\n",
    "plt.style.use('seaborn-white')\n",
    "plt.rcParams['font.family'] = 'Helvetica'"
   ]
  },
  {
   "cell_type": "markdown",
   "metadata": {},
   "source": [
    "Step 1: Selecting subjects to analysis\n",
    "--------------------------------------------"
   ]
  },
  {
   "cell_type": "code",
   "execution_count": 3,
   "metadata": {
    "scrolled": true
   },
   "outputs": [],
   "source": [
    "sex = pd.read_csv('../../../Data/sex_assignment.csv')\n",
    "subs = sex['Subjects'].values\n",
    "\n",
    "# Creating vectors to filter by sex\n",
    "female = (sex == 'Female')\n",
    "male = (sex == 'Male')\n",
    "\n",
    "# We will include all subjects at this point\n",
    "fem_vector = female['Sex'].values\n",
    "mal_vector = male['Sex'].values\n"
   ]
  },
  {
   "cell_type": "markdown",
   "metadata": {},
   "source": [
    "Step 2: Getting modules names and color pallete\n",
    "----------------------------------------"
   ]
  },
  {
   "cell_type": "code",
   "execution_count": 4,
   "metadata": {
    "scrolled": true
   },
   "outputs": [
    {
     "name": "stdout",
     "output_type": "stream",
     "text": [
      "['AU', 'AU', 'AU', 'AU', 'AU', 'AU', 'AU', 'AU', 'AU', 'AU', 'DM', 'DM', 'DM', 'DM', 'DM', 'DM', 'DM', 'DM', 'DM', 'DM', 'DM', 'DM', 'DM', 'DM', 'DM', 'DM', 'DM', 'DM', 'DM', 'DM', 'DM', 'DM', 'DM', 'DM', 'FP', 'FP', 'FP', 'FP', 'FP', 'FP', 'FP', 'FP', 'FP', 'FP', 'FP', 'FP', 'SAL', 'SAL', 'SAL', 'SAL', 'SAL', 'SAL', 'SAL', 'SAL', 'SAL', 'SAL', 'SAL', 'SAL', 'SEN', 'SEN', 'SEN', 'SEN', 'SEN', 'SEN', 'SEN', 'SEN', 'SEN', 'SEN', 'SEN', 'SEN', 'SUB', 'SUB', 'SUB', 'SUB', 'SUB', 'SUB', 'SUB', 'SUB', 'SUB', 'SUB', 'SUB', 'SUB', 'SUB', 'SUB', 'VIS', 'VIS', 'VIS', 'VIS', 'VIS', 'VIS', 'VIS', 'VIS', 'VIS', 'VIS', 'VIS', 'VIS', 'VIS', 'VIS']\n",
      "[0 0 0 0 0 0 0 0 0 0 1 1 1 1 1 1 1 1 1 1 1 1 1 1 1 1 1 1 1 1 1 1 1 1 2 2 2\n",
      " 2 2 2 2 2 2 2 2 2 3 3 3 3 3 3 3 3 3 3 3 3 4 4 4 4 4 4 4 4 4 4 4 4 5 5 5 5\n",
      " 5 5 5 5 5 5 5 5 5 5 6 6 6 6 6 6 6 6 6 6 6 6 6 6]\n"
     ]
    }
   ],
   "source": [
    "path_labels_98 = '../Functional_system_data/Original/AAL_module_names.txt' \n",
    "\n",
    "with open(path_labels_98, 'r') as f:\n",
    "    labels_98 = f.read()\n",
    "labels_98 = labels_98.split('\\n')\n",
    "labels_98.sort()\n",
    "print(labels_98)\n",
    "\n",
    "\n",
    "unique_networks_98 = sorted(list(set(labels_98))); # create list of individual networks\n",
    "\n",
    "labels_idx = []\n",
    "for label in labels_98:\n",
    "    labels_idx.append(unique_networks_98.index(label)) # assign a value to each system in the list\n",
    "    \n",
    "\n",
    "labels_98 = np.array(labels_idx)\n",
    "print(labels_98)"
   ]
  },
  {
   "cell_type": "markdown",
   "metadata": {},
   "source": [
    "## Step 3: Calculating and plotting mean network recruitment/integration (non-normalized)\n",
    "----------------------------------------"
   ]
  },
  {
   "cell_type": "markdown",
   "metadata": {},
   "source": [
    "### Loading allegiance matrices"
   ]
  },
  {
   "cell_type": "code",
   "execution_count": 5,
   "metadata": {
    "scrolled": true
   },
   "outputs": [
    {
     "data": {
      "text/plain": [
       "(98, 98, 6, 30)"
      ]
     },
     "execution_count": 5,
     "metadata": {},
     "output_type": "execute_result"
    }
   ],
   "source": [
    "P = np.load('../../../Data/04-Dynamic_modular_analyses/Modular_allegiance_matrix/allegiance_matrix_opt_mean.npy')\n",
    "P.shape\n"
   ]
  },
  {
   "cell_type": "markdown",
   "metadata": {},
   "source": [
    "### Recruitment / integration function"
   ]
  },
  {
   "cell_type": "code",
   "execution_count": 6,
   "metadata": {
    "scrolled": true
   },
   "outputs": [],
   "source": [
    "def networks_recr_integ(matrix, labels, n_iter):\n",
    "    '''Calculates recruitment and integration coefficients at system level (non-normalized)\n",
    "    \n",
    "    Args:\n",
    "        matrix: (N x N)\n",
    "        labels: (N, )\n",
    "        n_iter: int\n",
    "    '''\n",
    "\n",
    "    n_networks = len(np.unique(labels)) # number of unqiue networks\n",
    "\n",
    "    def networks_mean(matrix, labels, n_networks):\n",
    "        '''... '''\n",
    "        nam = np.zeros((n_networks, n_networks))\n",
    "        \n",
    "        for i in range(n_networks):\n",
    "            for j in range(n_networks):\n",
    "                nam[i, j] = np.mean(matrix[np.nonzero(labels == i)][:, np.nonzero(labels == j)])\n",
    "        return nam\n",
    "\n",
    "\n",
    "    nam = networks_mean(matrix, labels, n_networks)\n",
    "\n",
    "    return nam\n",
    "\n"
   ]
  },
  {
   "cell_type": "markdown",
   "metadata": {},
   "source": [
    "### Step 3a: Calculating mean recruitment/integration (non-normalized)"
   ]
  },
  {
   "cell_type": "code",
   "execution_count": 7,
   "metadata": {
    "scrolled": false
   },
   "outputs": [],
   "source": [
    "n_net = 7\n",
    "n_fun = P.shape[2] # number of functional bands\n",
    "n_sub = P.shape[3] # number of subjects\n",
    "recr_integ = np.zeros((n_fun, n_sub, n_net, n_net)) # initialise allegiance matrix\n",
    "\n",
    "for j in range(n_sub):\n",
    "    #print(f'Subject number {j+1}')\n",
    "    for i in range(n_fun):\n",
    "        recr_integ[i,j,:,:] = networks_recr_integ(P[:,:,i,j], eval(f'labels_98'), 1000)\n",
    "    \n"
   ]
  },
  {
   "cell_type": "code",
   "execution_count": 8,
   "metadata": {
    "scrolled": true
   },
   "outputs": [],
   "source": [
    "# Average across subjects for m / f\n",
    "sys_rec_int_female_non_normalized = np.mean(recr_integ[:,0:15,:,:], axis=1)\n",
    "sys_rec_int_male_non_normalized = np.mean(recr_integ[:,15:30,:,:], axis=1)\n",
    "\n",
    "#np.save('../../../Data/06-Sex_analyses/04-Dynamic_modular_analyses/Recruitment_Integration/Non_normalized/sys_rec_int_female_non_normalized.npy', sys_rec_int_female_non_normalized)\n",
    "#np.save('../../../Data/06-Sex_analyses/04-Dynamic_modular_analyses/Recruitment_Integration/Non_normalized/sys_rec_int_male_non_normalized.npy', sys_rec_int_male_non_normalized)\n"
   ]
  },
  {
   "cell_type": "markdown",
   "metadata": {},
   "source": [
    "### Step 3b: Exploration plots of recruitment/integration (non-normalized)"
   ]
  },
  {
   "cell_type": "code",
   "execution_count": 9,
   "metadata": {
    "scrolled": true
   },
   "outputs": [
    {
     "data": {
      "image/png": "[encoded data removed]",
      "text/plain": [
       "<Figure size 1584x720 with 6 Axes>"
      ]
     },
     "metadata": {},
     "output_type": "display_data"
    }
   ],
   "source": [
    "sns.set(font='serif', font_scale=1.2)\n",
    "fig, ax = plt.subplots(1,6)\n",
    "fig.set_size_inches(22, 10)\n",
    "\n",
    "frequency_bands = ['Delta', 'Theta', 'Alpha', 'Beta', 'Low Gamma', 'High Gamma']\n",
    "\n",
    "\n",
    "for f, freq in enumerate(frequency_bands):\n",
    "    m_na = recr_integ[f, :,:, :].mean(axis=0) # plot mean over 30 subjects\n",
    "    \n",
    "    sns.heatmap(m_na, yticklabels = unique_networks_98,\n",
    "                        xticklabels = unique_networks_98,\n",
    "                        square = True,\n",
    "                        cmap = \"RdBu_r\",\n",
    "                        ax=ax[f],\n",
    "                        cbar=None,\n",
    "                        vmin = 0, vmax = 0.7)\n",
    "                        #vmin = -0.5, vmax = 3)\n",
    "    "
   ]
  },
  {
   "cell_type": "code",
   "execution_count": 10,
   "metadata": {
    "scrolled": true
   },
   "outputs": [],
   "source": [
    "# we inspect the martrices for outliers\n",
    "recr_integ_mean_sub = recr_integ.mean(axis=1)\n",
    "\n",
    "for freq in range(6):\n",
    "    test = recr_integ_mean_sub[freq,:,:]\n",
    "    mean, stdev = np.mean(test), np.std(test)\n",
    "    outliers = (np.abs(test - mean) > 2*stdev) # 2 standard deviations account for 95% of the set\n",
    "    #print(outliers)\n",
    "    \n",
    "    "
   ]
  },
  {
   "cell_type": "markdown",
   "metadata": {},
   "source": [
    "### Creating integration of systems network plot\n",
    "\n",
    "Code from here: https://qxf2.com/blog/drawing-weighted-graphs-with-networkx/"
   ]
  },
  {
   "cell_type": "code",
   "execution_count": 11,
   "metadata": {},
   "outputs": [],
   "source": [
    "def plot_weighted_graph():\n",
    "    \"Plot a weighted graph\"\n",
    " \n",
    "    #2. Add nodes\n",
    "    G = nx.Graph() #Create a graph object called G\n",
    "    node_list = ['AU','DM','FP','SEN','SAL','SUB','VIS']\n",
    "    node_list_size = [1035.86444444,  799.29202491,  826.18088624,  736.59121473, 784.04546958,  756.12597182, 1320.09706025] # manually enter recruitment values\n",
    "    for node in node_list:\n",
    "        G.add_node(node)\n",
    " \n",
    "    #Note: You can also try a spring_layout\n",
    "    pos=nx.circular_layout(G)\n",
    "    #pos=nx.spring_layout(G)\n",
    "    nx.draw_networkx_nodes(G,pos,node_color='pink',node_size = node_list_size)\n",
    " \n",
    "    #3. If you want, add labels to the nodes\n",
    "    labels = {}\n",
    "    for node_name in node_list:\n",
    "        labels[str(node_name)] =str(node_name)\n",
    "    nx.draw_networkx_labels(G,pos,labels,font_size=12)\n",
    " \n",
    " \n",
    "    #4. Add the edges (7C2 = 21 combinations)\n",
    "    #NOTE: You usually read this data in from some source\n",
    "    #To keep the example self contained, I typed this out\n",
    "    G.add_edge(node_list[0],node_list[1],weight=recr_integ_plot[0]) # AU - DM\n",
    "    G.add_edge(node_list[0],node_list[2],weight=recr_integ_plot[1]) # AU - FP\n",
    "    G.add_edge(node_list[0],node_list[3],weight=recr_integ_plot[2]) # AU - SAL\n",
    "    G.add_edge(node_list[0],node_list[4],weight=recr_integ_plot[3]) # AU - SEN\n",
    "    G.add_edge(node_list[0],node_list[5],weight=recr_integ_plot[4]) # AU - SUB\n",
    "    #G.add_edge(node_list[0],node_list[6],weight=recr_integ_plot[5]) # AU - VIS\n",
    "    G.add_edge(node_list[1],node_list[2],weight=recr_integ_plot[6]) # DM - FP\n",
    "    G.add_edge(node_list[1],node_list[3],weight=recr_integ_plot[7]) # DM - SAL\n",
    "    G.add_edge(node_list[1],node_list[4],weight=recr_integ_plot[8]) # DM - SEN\n",
    "    G.add_edge(node_list[1],node_list[5],weight=recr_integ_plot[9]) # DM - SUB\n",
    "    G.add_edge(node_list[1],node_list[6],weight=recr_integ_plot[10]) # DM - VIS\n",
    "    G.add_edge(node_list[2],node_list[3],weight=recr_integ_plot[11]) # FP - SAL\n",
    "    G.add_edge(node_list[2],node_list[4],weight=recr_integ_plot[12]) # FP - SEN\n",
    "    G.add_edge(node_list[2],node_list[5],weight=recr_integ_plot[13]) # FP - SUB\n",
    "    G.add_edge(node_list[2],node_list[6],weight=recr_integ_plot[14]) # FP - VIS\n",
    "    G.add_edge(node_list[3],node_list[4],weight=recr_integ_plot[15]) # SAL - SEN\n",
    "    G.add_edge(node_list[3],node_list[5],weight=recr_integ_plot[16]) # SAL - SUB\n",
    "    G.add_edge(node_list[3],node_list[6],weight=recr_integ_plot[17]) # SAL - VIS\n",
    "    G.add_edge(node_list[4],node_list[5],weight=recr_integ_plot[18]) # SEN - SUB\n",
    "    G.add_edge(node_list[4],node_list[6],weight=recr_integ_plot[19]) # SEN - VIS\n",
    "    G.add_edge(node_list[5],node_list[6],weight=recr_integ_plot[20]) # SUB - VIS\n",
    " \n",
    "    all_weights = []\n",
    "    #4 a. Iterate through the graph nodes to gather all the weights\n",
    "    for (node1,node2,data) in G.edges(data=True):\n",
    "        all_weights.append(data['weight']) # we'll use this when determining edge thickness\n",
    " \n",
    "    #4 b. Get unique weights\n",
    "    unique_weights = list(set(all_weights))\n",
    " \n",
    "    #4 c. Plot the edges - one by one!\n",
    "    for weight in unique_weights:\n",
    "        #4 d. Form a filtered list with just the weight you want to draw\n",
    "        weighted_edges = [(node1,node2) for (node1,node2,edge_attr) in G.edges(data=True) if edge_attr['weight']==weight]\n",
    "        #4 e. I think multiplying by [num_nodes/sum(all_weights)] makes the graphs edges look cleaner\n",
    "        width = (weight*len(node_list)*4.5/sum(all_weights))**2 # Change 10.0 to change thickness of all edges!\n",
    "        nx.draw_networkx_edges(G,pos,edgelist=weighted_edges,width=width, edge_color='#c5c2c2')\n",
    "        # Set edge colour in line above this (but it does it for them all currently)\n",
    "    \n",
    "    nx.draw_networkx_edges(G,pos,edgelist=[(node_list[0], node_list[6])],width = recr_integ_plot[5]*len(node_list)*10.0/sum(all_weights), edge_color='red')\n",
    "    \n",
    "\n",
    "    #Plot the graph\n",
    "    plt.axis('off')\n",
    "    #plt.title('Integration of systems')\n",
    "    #plt.savefig('network_figure.png', bbox_inches = 'tight')\n",
    "    #plt.show() "
   ]
  },
  {
   "cell_type": "code",
   "execution_count": 12,
   "metadata": {},
   "outputs": [
    {
     "name": "stderr",
     "output_type": "stream",
     "text": [
      "/Users/bengriffin/anaconda3/lib/python3.7/site-packages/networkx/drawing/nx_pylab.py:579: MatplotlibDeprecationWarning: \n",
      "The iterable function was deprecated in Matplotlib 3.1 and will be removed in 3.3. Use np.iterable instead.\n",
      "  if not cb.iterable(width):\n"
     ]
    },
    {
     "data": {
      "image/png": "[encoded data removed]",
      "text/plain": [
       "<Figure size 432x288 with 1 Axes>"
      ]
     },
     "metadata": {},
     "output_type": "display_data"
    }
   ],
   "source": [
    "# ---- START OF SCRIPT\n",
    "recr_integ_average = (recr_integ.mean(axis=1)).mean(axis=0) # we plot the average for all subjects for all freq bands\n",
    "\n",
    "(recr_integ_average.diagonal())*2000 # Calculate recruitment values of each node (copied manually to previous cell)\n",
    "\n",
    "for i in range(1):\n",
    "    recr_integ_plot = recr_integ_average[:,:] \n",
    "    recr_integ_plot = recr_integ_plot[np.triu_indices(7, k = 1)]\n",
    "\n",
    "    if __name__=='__main__':\n",
    "        plot_weighted_graph()\n",
    "        l_x,r_x = plt.xlim()\n",
    "        l_y,r_y = plt.ylim()\n",
    "        plt.xlim(l_x-0.1,r_x+0.05)\n",
    "        plt.ylim(l_y-0.05,r_y+0.05)\n",
    "        "
   ]
  },
  {
   "cell_type": "markdown",
   "metadata": {},
   "source": [
    "## Step 4: Calculating mean network rectuitment/integration (normalized)"
   ]
  },
  {
   "cell_type": "markdown",
   "metadata": {},
   "source": [
    "### Normalization function"
   ]
  },
  {
   "cell_type": "code",
   "execution_count": 13,
   "metadata": {
    "scrolled": true
   },
   "outputs": [],
   "source": [
    "def normalize_networks_mean(matrix, labels, n_iter):\n",
    "    '''Normalizing recruitment and integration values using permutation approach.\n",
    "    Null module allegiance matrices were created by randomly permuting the correspondence \n",
    "    between regions of interest (ROIs) and large-scale systems.\n",
    "    We then calculated the functional cartography measures for all permuted matrices.  \n",
    "    To obtain normalized values of recruitment and integration, \n",
    "    we divided them by the mean of the corresponding null distribution.\n",
    "    This procedure yielded null distributions of recruitment \n",
    "    and integration coefficients resulting solely from the size of each system.\n",
    "    \n",
    "    Args:\n",
    "        matrix: (N x N)\n",
    "        labels: (N, )\n",
    "        n_iter: int\n",
    "    '''\n",
    "\n",
    "    n_networks = len(np.unique(labels)) # number of unqiue networks\n",
    "\n",
    "    def calculate_networks_mean(matrix, labels, n_networks):\n",
    "        '''... '''\n",
    "        nam = np.zeros((n_networks, n_networks))\n",
    "        \n",
    "        for i in range(n_networks):\n",
    "            for j in range(n_networks):\n",
    "                nam[i, j] = np.mean(matrix[np.nonzero(labels == i)][:, np.nonzero(labels == j)])\n",
    "        return nam\n",
    "\n",
    "\n",
    "    nam = calculate_networks_mean(matrix, labels, n_networks)\n",
    "    #print(nam)\n",
    "\n",
    "    nam_null = np.zeros((n_networks, n_networks))\n",
    "    labels_null = labels.copy() # make a copy of labels (that will not be changed if the copy is changed)\n",
    "\n",
    "    for _ in range(n_iter):\n",
    "        np.random.shuffle(labels_null)\n",
    "        #print(labels_null)\n",
    "        nam_null += calculate_networks_mean(matrix, labels_null, n_networks)\n",
    "\n",
    "    nam_null /= n_iter    \n",
    "    # we run the random shuffle n_iter times, and then divide by n_iter just to randomise it even more\n",
    "    return np.divide(nam, nam_null)\n",
    "\n",
    "#\"To remove potential bias introduced by the differences in the number of nodes\n",
    "#within each system, we used permutation approach to normalize values of\n",
    "#recruitment and integration coefficients. For each subject and session, we created\n",
    "#Nperm = 1000 null module allegiance matrices by randomly permuting\n",
    "#correspondence between ROIs and large-scale systems. We then calculated\n",
    "#functional cartography measures for all permuted matrices. This procedure\n",
    "#yielded null distributions of recruitment and integration coefficients resulting\n",
    "#solely from the size of each system. In order to obtain normalized values of Rs\n",
    "#and ISk St, we divided them by the mean of the corresponding null distribution. We\n",
    "#also calculated recruitment and integration coefficients based on multilevel\n",
    "#community detection for signed networks (Supplementary Methods, Supplementary\n",
    "#Figs. 13–15).\""
   ]
  },
  {
   "cell_type": "markdown",
   "metadata": {},
   "source": [
    "### Step 4a: Calculating mean normalized recruitment/integration"
   ]
  },
  {
   "cell_type": "code",
   "execution_count": 14,
   "metadata": {
    "scrolled": false
   },
   "outputs": [
    {
     "name": "stdout",
     "output_type": "stream",
     "text": [
      "Subject number 1\n",
      "Subject number 2\n",
      "Subject number 3\n",
      "Subject number 4\n",
      "Subject number 5\n",
      "Subject number 6\n",
      "Subject number 7\n",
      "Subject number 8\n",
      "Subject number 9\n",
      "Subject number 10\n",
      "Subject number 11\n",
      "Subject number 12\n",
      "Subject number 13\n",
      "Subject number 14\n",
      "Subject number 15\n",
      "Subject number 16\n",
      "Subject number 17\n",
      "Subject number 18\n",
      "Subject number 19\n",
      "Subject number 20\n",
      "Subject number 21\n",
      "Subject number 22\n",
      "Subject number 23\n",
      "Subject number 24\n",
      "Subject number 25\n",
      "Subject number 26\n",
      "Subject number 27\n",
      "Subject number 28\n",
      "Subject number 29\n",
      "Subject number 30\n"
     ]
    }
   ],
   "source": [
    "# Calculate mean normalized allegiance\n",
    "n_net = len(eval(f'unique_networks_98')); # number of unique systems\n",
    "\n",
    "norm_mean_allegiance = np.zeros((n_fun, n_sub, n_net, n_net)) # initialise allegiance matrix\n",
    "\n",
    "for j in range (n_sub):\n",
    "    print(f'Subject number {j+1}')\n",
    "    for i in range(n_fun):\n",
    "        #print(f'Frequency band {i+1}')\n",
    "        norm_mean_allegiance[i,j,:,:] = normalize_networks_mean(P[:,:,i,j], eval(f'labels_98'), 1000)\n",
    "    \n",
    "\n",
    "\n",
    "#np.save('../../../Data/04-Dynamic_modular_analyses/Recruitment_Integration/whole-brain_normalised_mean_allegiance.npy', norm_mean_allegiance)\n"
   ]
  },
  {
   "cell_type": "code",
   "execution_count": 15,
   "metadata": {
    "scrolled": true
   },
   "outputs": [
    {
     "data": {
      "text/plain": [
       "(30, 6, 7, 7)"
      ]
     },
     "execution_count": 15,
     "metadata": {},
     "output_type": "execute_result"
    }
   ],
   "source": [
    "# Swap the first two dimensions in order for subjects to be on the left in the table\n",
    "norm_mean_allegiance = np.transpose(norm_mean_allegiance, (1, 0, 2, 3))\n",
    "norm_mean_allegiance.shape\n"
   ]
  },
  {
   "cell_type": "code",
   "execution_count": 26,
   "metadata": {
    "scrolled": true
   },
   "outputs": [],
   "source": [
    "# Average across subjects for m / f\n",
    "sys_rec_int_female_normalized = np.mean(norm_mean_allegiance[0:15,:,:,:], axis=0)\n",
    "sys_rec_int_male_normalized = np.mean(norm_mean_allegiance[15:30,:,:,:], axis=0)\n",
    "\n",
    "#np.save('../../../Data/06-Sex_analyses/04-Dynamic_modular_analyses/Recruitment_Integration/Normalized/sys_rec_int_female_normalized.npy', sys_rec_int_female_normalized)\n",
    "#np.save('../../../Data/06-Sex_analyses/04-Dynamic_modular_analyses/Recruitment_Integration/Normalized/sys_rec_int_male_normalized.npy', sys_rec_int_male_normalized)\n"
   ]
  },
  {
   "cell_type": "markdown",
   "metadata": {},
   "source": [
    "### Save results as tidy dataframe"
   ]
  },
  {
   "cell_type": "code",
   "execution_count": 34,
   "metadata": {
    "scrolled": true
   },
   "outputs": [],
   "source": [
    "# load norm system allegiance matrix - use to save time rather than running the script above to recalculate\n",
    "#norm_mean_allegiance = np.load(f'../../../Data/04-Dynamic_modular_analyses/Recruitment_Integration/whole-brain_normalised_mean_allegiance.npy')\n",
    "#norm_mean_allegiance = np.transpose(norm_mean_allegiance, (1, 0, 2, 3))\n",
    "#norm_mean_allegiance.shape\n",
    "\n",
    "# initialise databases\n",
    "normalized_measures = pd.DataFrame()\n",
    "recruitment = pd.DataFrame()\n",
    "\n",
    "frequency_bands = ['Delta', 'Theta', 'Alpha', 'Beta', 'Low gamma', 'High gamma']\n",
    "subjects = ['Subject 1', 'Subject 2', 'Subject 3', 'Subject 4', 'Subject 5', 'Subject 6','Subject 7', 'Subject 8', 'Subject 9', 'Subject 10','Subject 11', 'Subject 12', 'Subject 13', 'Subject 14', 'Subject 15', 'Subject 25','Subject 26', 'Subject 27', 'Subject 28','Subject 29', 'Subject 30','Subject 31', 'Subject 32', 'Subject 33', 'Subject 34', 'Subject 35', 'Subject 36','Subject 37', 'Subject 38', 'Subject 39'] \n",
    "\n",
    "for i, sub in enumerate(subjects):\n",
    "\n",
    "    for j , freq in enumerate(frequency_bands):\n",
    "\n",
    "        for k, net1 in enumerate(eval(f'unique_networks_98')): \n",
    "            \n",
    "            networks_allegiance = pd.DataFrame()\n",
    "            \n",
    "            for l, net2 in enumerate(eval(f'unique_networks_98')):\n",
    "                \n",
    "                norm_net_allegiance = norm_mean_allegiance[i,j,k,l]\n",
    "                pre = pd.DataFrame([[sub, freq, sex['Sex'].values[i], net1, norm_net_allegiance]], \n",
    "                                    columns=['Subject','Freqband', 'Sex','Network', f'{net2}']) \n",
    "                if net1 == net2:\n",
    "                    recruitment = pd.concat((recruitment, pd.DataFrame([[sub,\n",
    "                                                                         freq,\n",
    "                                                                         sex['Sex'].values[i],\n",
    "                                                                         net1, \n",
    "                                                                         norm_net_allegiance]], \n",
    "                                    columns=['Subject','Freqband', 'sex', 'Network', 'Recruitment']))) \n",
    "                if l == 0:\n",
    "                    networks_allegiance = pre\n",
    "                if l > 0:\n",
    "                    networks_allegiance = pd.merge(networks_allegiance, pre, on = ['Subject','Freqband', 'Sex','Network'])\n",
    "            \n",
    "            normalized_measures = pd.concat((normalized_measures, networks_allegiance), axis=0)\n",
    "\n",
    "\n",
    "#normalized_measures.to_csv('../../../Data/04-Dynamic_modular_analyses/Recruitment_integration/whole-brain_normalized_mean_allegiance_tidy.csv', index=False)\n",
    "#recruitment.to_csv('../../../Data/04-Dynamic_modular_analyses/Recruitment_integration/whole-brain_normalized_recruitment_tidy.csv', index=False)\n",
    "\n"
   ]
  },
  {
   "cell_type": "markdown",
   "metadata": {},
   "source": [
    "### Step 4b: Exploration plots of recruitment/integration (normalized)\n"
   ]
  },
  {
   "cell_type": "code",
   "execution_count": 40,
   "metadata": {
    "scrolled": true
   },
   "outputs": [
    {
     "data": {
      "image/png": "[encoded data removed]",
      "text/plain": [
       "<Figure size 1584x720 with 12 Axes>"
      ]
     },
     "metadata": {},
     "output_type": "display_data"
    }
   ],
   "source": [
    "# load norm system allegiance matrix - use to save time rather than running the script above to recalculate\n",
    "#norm_mean_allegiance = np.load('../../../Data/04-Dynamic_modular_analyses/Recruitment_Integration/whole-brain_normalised_mean_allegiance.npy')\n",
    "\n",
    "\n",
    "fig, ax = plt.subplots(1,6)\n",
    "fig.set_size_inches(22, 10)\n",
    "\n",
    "frequency_bands = ['Delta', 'Theta', 'Alpha', 'Beta', 'Low Gamma', 'High Gamma']\n",
    "\n",
    "for f, freq in enumerate(frequency_bands):\n",
    "    m_na = norm_mean_allegiance[f, :, :, :].mean(axis=0)\n",
    "    \n",
    "    sns.heatmap(m_na, yticklabels = unique_networks_98,\n",
    "                        xticklabels = unique_networks_98,\n",
    "                        square = True,\n",
    "                        cmap = \"RdBu_r\",\n",
    "                        ax=ax[f],\n",
    "                        cbar=True,\n",
    "                        vmin = 0, vmax = 1.7)\n",
    "                        #vmin = -0.5, vmax = 3)\n",
    "    "
   ]
  },
  {
   "cell_type": "code",
   "execution_count": 16,
   "metadata": {
    "scrolled": true
   },
   "outputs": [
    {
     "name": "stdout",
     "output_type": "stream",
     "text": [
      "(6, 7, 7)\n",
      "[[False False False False False False False]\n",
      " [False False False False False False False]\n",
      " [False False False False False False False]\n",
      " [False False False False False False False]\n",
      " [False False False False False False False]\n",
      " [False False False False False False False]\n",
      " [False False False False False False  True]]\n",
      "[[False False False False False False False]\n",
      " [False False False False False False False]\n",
      " [False False False False False False False]\n",
      " [False False False False False False False]\n",
      " [False False False False False False False]\n",
      " [False False False False False False False]\n",
      " [False False False False False False  True]]\n",
      "[[False False False False False False False]\n",
      " [False False False False False False False]\n",
      " [False False False False False False False]\n",
      " [False False False False False False False]\n",
      " [False False False False False False False]\n",
      " [False False False False False False False]\n",
      " [False False False False False False  True]]\n",
      "[[False False False False False False False]\n",
      " [False False False False False False False]\n",
      " [False False False False False False False]\n",
      " [False False False False False False False]\n",
      " [False False False False False False False]\n",
      " [False False False False False False False]\n",
      " [False False False False False False  True]]\n",
      "[[False False False False False False  True]\n",
      " [False False False False False False False]\n",
      " [False False False False False False False]\n",
      " [False False False False False False False]\n",
      " [False False False False False False False]\n",
      " [False False False False False False False]\n",
      " [ True False False False False False  True]]\n",
      "[[False False False False False False  True]\n",
      " [False False False False False False False]\n",
      " [False False False False False False False]\n",
      " [False False False False False False False]\n",
      " [False False False False False False False]\n",
      " [False False False False False False False]\n",
      " [ True False False False False False False]]\n"
     ]
    }
   ],
   "source": [
    "norm_mean_allegiance = np.load('../../../Data/04-Dynamic_modular_analyses/Recruitment_Integration/whole-brain_normalised_mean_allegiance.npy')\n",
    "norm_mean_allegiance_mean_sub = norm_mean_allegiance.mean(axis=1)\n",
    "\n",
    "print(norm_mean_allegiance_mean_sub.shape)\n",
    "\n",
    "for freq in range(6):\n",
    "    test = norm_mean_allegiance_mean_sub[freq,:,:]\n",
    "    mean, stdev = np.mean(test), np.std(test)\n",
    "    outliers = (np.abs(test - mean) > 2*stdev) # 2 standard deviations account for 95% of the set\n",
    "    print(outliers)\n",
    "    \n",
    "    "
   ]
  },
  {
   "cell_type": "markdown",
   "metadata": {},
   "source": [
    "### Step 5: Comparing system modular allegiance matrix (normalised vs non-normalised across all 30 subjects)"
   ]
  },
  {
   "cell_type": "code",
   "execution_count": 37,
   "metadata": {
    "scrolled": true
   },
   "outputs": [
    {
     "data": {
      "text/plain": [
       "<matplotlib.axes._subplots.AxesSubplot at 0x1a2a707ed0>"
      ]
     },
     "execution_count": 37,
     "metadata": {},
     "output_type": "execute_result"
    },
    {
     "data": {
      "image/png": "[encoded data removed]",
      "text/plain": [
       "<Figure size 432x288 with 2 Axes>"
      ]
     },
     "metadata": {},
     "output_type": "display_data"
    }
   ],
   "source": [
    "# non-normalised\n",
    "sns.set(font='serif', font_scale=1.5)\n",
    "m_na_plot = (recr_integ.mean(axis=0)).mean(axis=0)\n",
    "\n",
    "sns.heatmap(m_na_plot, yticklabels = unique_networks_98,\n",
    "                        xticklabels = unique_networks_98,\n",
    "                        square = True,\n",
    "                        cmap = \"RdBu_r\",\n",
    "                        cbar=True,\n",
    "                        vmin = 0, vmax = 0.7)"
   ]
  },
  {
   "cell_type": "code",
   "execution_count": 39,
   "metadata": {
    "scrolled": true
   },
   "outputs": [
    {
     "data": {
      "text/plain": [
       "<matplotlib.axes._subplots.AxesSubplot at 0x1a2ad4e490>"
      ]
     },
     "execution_count": 39,
     "metadata": {},
     "output_type": "execute_result"
    },
    {
     "data": {
      "image/png": "[encoded data removed]",
      "text/plain": [
       "<Figure size 432x288 with 2 Axes>"
      ]
     },
     "metadata": {},
     "output_type": "display_data"
    }
   ],
   "source": [
    "# normalised\n",
    "m_na_plot_norm = (norm_mean_allegiance.mean(axis=0)).mean(axis=0)\n",
    "\n",
    "sns.heatmap(m_na_plot_norm, yticklabels = unique_networks_98,\n",
    "                        xticklabels = unique_networks_98,\n",
    "                        square = True,\n",
    "                        cmap = \"RdBu_r\",\n",
    "                        cbar=True)#,\n",
    "                        #vmin = 0, vmax = 0.7)"
   ]
  }
 ],
 "metadata": {
  "kernelspec": {
   "display_name": "Python 3",
   "language": "python",
   "name": "python3"
  },
  "language_info": {
   "codemirror_mode": {
    "name": "ipython",
    "version": 3
   },
   "file_extension": ".py",
   "mimetype": "text/x-python",
   "name": "python",
   "nbconvert_exporter": "python",
   "pygments_lexer": "ipython3",
   "version": "3.7.6"
  }
 },
 "nbformat": 4,
 "nbformat_minor": 4
}
