{
 "cells": [
  {
   "cell_type": "markdown",
   "metadata": {},
   "source": [
    "# **Working memory training**: Whole-brain normalized recruitment/integration\n",
    "\n",
    "**Last edited:** 22-06-2020"
   ]
  },
  {
   "cell_type": "markdown",
   "metadata": {},
   "source": [
    "Step 0: Loading libraries\n",
    "--------------------------------------------"
   ]
  },
  {
   "cell_type": "code",
   "execution_count": 21,
   "metadata": {},
   "outputs": [],
   "source": [
    "import sys\n",
    "sys.path.append(\"..\")\n",
    "import os\n",
    "\n",
    "%matplotlib inline\n",
    "\n",
    "import scipy.io as sio\n",
    "import numpy as np\n",
    "from nilearn import plotting \n",
    "import pandas as pd\n",
    "import seaborn as sns\n",
    "import matplotlib.pyplot as plt\n",
    "\n",
    "from scipy import stats\n",
    "from fctools import networks, figures\n",
    "\n",
    "#---- matplotlib settings\n",
    "import matplotlib.pyplot as plt\n",
    "plt.style.use('seaborn-white')\n",
    "plt.rcParams['font.family'] = 'Helvetica'"
   ]
  },
  {
   "cell_type": "markdown",
   "metadata": {},
   "source": [
    "Step 1: Selecting subjects to analysis\n",
    "--------------------------------------------"
   ]
  },
  {
   "cell_type": "code",
   "execution_count": 22,
   "metadata": {},
   "outputs": [],
   "source": [
    "# Karolina used code to exclude certain subjects for which data was unreliable due to high motion.\n",
    "# I think we are okay to keep all subject data."
   ]
  },
  {
   "cell_type": "markdown",
   "metadata": {},
   "source": [
    "Step 2: Getting modules names and color pallete\n",
    "----------------------------------------"
   ]
  },
  {
   "cell_type": "code",
   "execution_count": 23,
   "metadata": {},
   "outputs": [
    {
     "name": "stdout",
     "output_type": "stream",
     "text": [
      "['SEN', 'SEN', 'FP', 'FP', 'FP', 'FP', 'FP', 'FP', 'DM', 'DM', 'SAL', 'SAL', 'SAL', 'SAL', 'DM', 'DM', 'AU', 'AU', 'SEN', 'SEN', 'SUB', 'SUB', 'FP', 'FP', 'DM', 'DM', 'DM', 'DM', 'SAL', 'SAL', 'SUB', 'SUB', 'DM', 'DM', 'SUB', 'SUB', 'VIS', 'VIS', 'VIS', 'VIS', 'VIS', 'VIS', 'VIS', 'VIS', 'VIS', 'VIS', 'VIS', 'VIS', 'VIS', 'VIS', 'SEN', 'SEN', 'SAL', 'SAL', 'FP', 'FP', 'SAL', 'SAL', 'DM', 'DM', 'DM', 'DM', 'SEN', 'SEN', 'SUB', 'SUB', 'SUB', 'SUB', 'SUB', 'SUB', 'SUB', 'SUB', 'AU', 'AU', 'AU', 'AU', 'AU', 'AU', 'AU', 'AU', 'DM', 'DM', 'FP', 'FP', 'SAL', 'SAL', 'SEN', 'SEN', 'SEN', 'SEN', 'DM', 'DM', 'DM', 'DM', 'DM', 'DM', 'DM', 'DM']\n",
      "[4 4 2 2 2 2 2 2 1 1 3 3 3 3 1 1 0 0 4 4 5 5 2 2 1 1 1 1 3 3 5 5 1 1 5 5 6\n",
      " 6 6 6 6 6 6 6 6 6 6 6 6 6 4 4 3 3 2 2 3 3 1 1 1 1 4 4 5 5 5 5 5 5 5 5 0 0\n",
      " 0 0 0 0 0 0 1 1 2 2 3 3 4 4 4 4 1 1 1 1 1 1 1 1]\n"
     ]
    }
   ],
   "source": [
    "path_labels_98 = '../support/module_names.txt' \n",
    "\n",
    "with open(path_labels_98, 'r') as f:\n",
    "    labels_98 = f.read()\n",
    "labels_98 = labels_98.split('\\n')\n",
    "#labels_98.sort()\n",
    "print(labels_98)\n",
    "\n",
    "\n",
    "unique_networks_98 = sorted(list(set(labels_98))); # create list of individual networks\n",
    "#print(unique_networks_98)\n",
    "\n",
    "labels_idx = []\n",
    "for label in labels_98:\n",
    "    labels_idx.append(unique_networks_98.index(label)) # assign a value to each system in the list\n",
    "    \n",
    "\n",
    "labels_98 = np.array(labels_idx)\n",
    "print(labels_98)"
   ]
  },
  {
   "cell_type": "markdown",
   "metadata": {},
   "source": [
    "## Step 3: Calculating mean normalized network rectuitment/integration\n",
    "----------------------------------------"
   ]
  },
  {
   "cell_type": "markdown",
   "metadata": {},
   "source": [
    "### Normalization function"
   ]
  },
  {
   "cell_type": "code",
   "execution_count": 24,
   "metadata": {},
   "outputs": [],
   "source": [
    "def normalize_networks_mean(matrix, labels, n_iter):\n",
    "    '''Normalizing recruitment and integration values using permutation approach.\n",
    "    Null module allegiance matrices were created by randomly permuting the correspondence \n",
    "    between regions of interest (ROIs) and large-scale systems.\n",
    "    We then calculated the functional cartography measures for all permuted matrices.  \n",
    "    To obtain normalized values of recruitment and integration, \n",
    "    we divided them by the mean of the corresponding null distribution.\n",
    "    This procedure yielded null distributions of recruitment \n",
    "    and integration coefficients resulting solely from the size of each system.\n",
    "    \n",
    "    Args:\n",
    "        matrix: (N x N)\n",
    "        labels: (N, )\n",
    "        n_iter: int\n",
    "    '''\n",
    "\n",
    "    n_networks = len(np.unique(labels)) # number of unqiue networks\n",
    "\n",
    "    def calculate_networks_mean(matrix, labels, n_networks):\n",
    "        '''... '''\n",
    "        nam = np.zeros((n_networks, n_networks))\n",
    "        \n",
    "        for i in range(n_networks):\n",
    "            for j in range(n_networks):\n",
    "                nam[i, j] = np.mean(matrix[np.nonzero(labels == i)][:, np.nonzero(labels == j)])\n",
    "        return nam\n",
    "\n",
    "\n",
    "    nam = calculate_networks_mean(matrix, labels, n_networks)\n",
    "    #print(nam)\n",
    "\n",
    "    nam_null = np.zeros((n_networks, n_networks))\n",
    "    labels_null = labels.copy() # make a copy of labels (that will not be changed if the copy is changed)\n",
    "\n",
    "    for _ in range(n_iter):\n",
    "        np.random.shuffle(labels_null)\n",
    "        #print(labels_null)\n",
    "        nam_null += calculate_networks_mean(matrix, labels_null, n_networks)\n",
    "\n",
    "    nam_null /= n_iter    \n",
    "    # we run the random shuffle n_iter times, and then divide by n_iter just to randomise it even more\n",
    "    return np.divide(nam, nam_null)\n",
    "\n",
    "#\"To remove potential bias introduced by the differences in the number of nodes\n",
    "#within each system, we used permutation approach to normalize values of\n",
    "#recruitment and integration coefficients. For each subject and session, we created\n",
    "#Nperm = 1000 null module allegiance matrices by randomly permuting\n",
    "#correspondence between ROIs and large-scale systems. We then calculated\n",
    "#functional cartography measures for all permuted matrices. This procedure\n",
    "#yielded null distributions of recruitment and integration coefficients resulting\n",
    "#solely from the size of each system. In order to obtain normalized values of Rs\n",
    "#and ISk St, we divided them by the mean of the corresponding null distribution. We\n",
    "#also calculated recruitment and integration coefficients based on multilevel\n",
    "#community detection for signed networks (Supplementary Methods, Supplementary\n",
    "#Figs. 13–15).\""
   ]
  },
  {
   "cell_type": "markdown",
   "metadata": {},
   "source": [
    "### Loading allegiance matrices"
   ]
  },
  {
   "cell_type": "code",
   "execution_count": 34,
   "metadata": {},
   "outputs": [
    {
     "data": {
      "text/plain": [
       "(98, 98, 6)"
      ]
     },
     "execution_count": 34,
     "metadata": {},
     "output_type": "execute_result"
    }
   ],
   "source": [
    "parcellation = 'power'\n",
    "#P = np.load('../Computed_matrices/Subject_1/allegiance_matrix_opt_mean.npy')\n",
    "P = np.load('../Computed_matrices/Subject_1/allegiance_matrix_opt_mean_adj.npy')\n",
    "P.shape\n",
    "#P[:,:,0]"
   ]
  },
  {
   "cell_type": "markdown",
   "metadata": {},
   "source": [
    "### Calculating mean normalized recruitment/integration"
   ]
  },
  {
   "cell_type": "code",
   "execution_count": 35,
   "metadata": {},
   "outputs": [
    {
     "name": "stdout",
     "output_type": "stream",
     "text": [
      "7\n",
      "Frequency band 1\n",
      "Frequency band 2\n",
      "Frequency band 3\n",
      "Frequency band 4\n",
      "Frequency band 5\n",
      "Frequency band 6\n",
      "[[[1.23995599 0.83103453 0.85172203 1.42401913 1.4115391  1.26922211\n",
      "   0.74178749]\n",
      "  [0.83103453 0.97952997 1.07064343 0.88941289 0.88988765 0.96432378\n",
      "   0.86337603]\n",
      "  [0.85172203 1.07064343 1.03506289 0.84670575 0.84791922 0.92654004\n",
      "   0.7982566 ]\n",
      "  [1.42401913 0.88941289 0.84670575 1.2211241  1.42453151 1.2807171\n",
      "   0.82628929]\n",
      "  [1.4115391  0.88988765 0.84791922 1.42453151 1.25623637 1.27671471\n",
      "   0.80793312]\n",
      "  [1.26922211 0.96432378 0.92654004 1.2807171  1.27671471 1.08884947\n",
      "   0.74524473]\n",
      "  [0.74178749 0.86337603 0.7982566  0.82628929 0.80793312 0.74524473\n",
      "   1.35761153]]\n",
      "\n",
      " [[1.34872509 0.89059597 0.86801002 1.4840506  1.49029326 1.40231653\n",
      "   0.54677333]\n",
      "  [0.89059597 0.9697687  1.11714554 0.92999133 0.9582762  0.98745379\n",
      "   0.75435631]\n",
      "  [0.86801002 1.11714554 1.0983884  0.90025953 0.92911452 0.99823914\n",
      "   0.66081092]\n",
      "  [1.4840506  0.92999133 0.90025953 1.16303414 1.39427434 1.29947035\n",
      "   0.66443698]\n",
      "  [1.49029326 0.9582762  0.92911452 1.39427434 1.23325787 1.32514468\n",
      "   0.62918601]\n",
      "  [1.40231653 0.98745379 0.99823914 1.29947035 1.32514468 1.10682661\n",
      "   0.49148153]\n",
      "  [0.54677333 0.75435631 0.66081092 0.66443698 0.62918601 0.49148153\n",
      "   1.7567433 ]]\n",
      "\n",
      " [[1.44606997 0.82008302 0.99850598 1.49793015 1.54462092 1.39916958\n",
      "   0.44722397]\n",
      "  [0.82008302 0.98757821 1.11288332 0.91214605 0.94965804 0.97911108\n",
      "   0.72883791]\n",
      "  [0.99850598 1.11288332 1.06843689 0.99563571 1.05670893 1.09550693\n",
      "   0.41078024]\n",
      "  [1.49793015 0.91214605 0.99563571 1.1213997  1.39137774 1.26769982\n",
      "   0.64686643]\n",
      "  [1.54462092 0.94965804 1.05670893 1.39137774 1.27922702 1.34578853\n",
      "   0.54393599]\n",
      "  [1.39916958 0.97911108 1.09550693 1.26769982 1.34578853 1.07033985\n",
      "   0.50270981]\n",
      "  [0.44722397 0.72883791 0.41078024 0.64686643 0.54393599 0.50270981\n",
      "   2.00808317]]\n",
      "\n",
      " [[1.45366339 0.86998943 0.97481017 1.54049062 1.57208499 1.35093615\n",
      "   0.50781163]\n",
      "  [0.86998943 1.01955778 1.186956   0.89768782 0.97998601 0.99806156\n",
      "   0.62670002]\n",
      "  [0.97481017 1.186956   1.13804922 0.94654814 1.07578443 1.07881869\n",
      "   0.32696129]\n",
      "  [1.54049062 0.89768782 0.94654814 1.15172247 1.40348654 1.24531973\n",
      "   0.68287587]\n",
      "  [1.57208499 0.97998601 1.07578443 1.40348654 1.23330354 1.29829209\n",
      "   0.54027722]\n",
      "  [1.35093615 0.99806156 1.07881869 1.24531973 1.29829209 1.00670939\n",
      "   0.55774441]\n",
      "  [0.50781163 0.62670002 0.32696129 0.68287587 0.54027722 0.55774441\n",
      "   1.96269128]]\n",
      "\n",
      " [[1.52929013 0.84942044 0.86333044 1.33253826 1.44966364 1.12774275\n",
      "   0.65036977]\n",
      "  [0.84942044 0.98874427 1.09294856 0.93107935 0.92146067 0.9908536\n",
      "   1.04978428]\n",
      "  [0.86333044 1.09294856 1.07131311 0.92698259 0.93033157 1.02873828\n",
      "   1.00264196]\n",
      "  [1.33253826 0.93107935 0.92698259 0.9994936  1.18303232 1.05527611\n",
      "   0.83291208]\n",
      "  [1.44966364 0.92146067 0.93033157 1.18303232 1.0941564  1.08006906\n",
      "   0.77908968]\n",
      "  [1.12774275 0.9908536  1.02873828 1.05527611 1.08006906 0.91213002\n",
      "   0.9049251 ]\n",
      "  [0.65036977 1.04978428 1.00264196 0.83291208 0.77908968 0.9049251\n",
      "   1.09073933]]\n",
      "\n",
      " [[1.76832984 0.88270751 0.95590028 1.42905338 1.65454918 1.17552939\n",
      "   0.41460108]\n",
      "  [0.88270751 1.00180842 1.0550371  0.93465566 0.94475822 1.00176591\n",
      "   0.9930351 ]\n",
      "  [0.95590028 1.0550371  0.97757781 0.95546175 0.98748615 1.01423112\n",
      "   0.94706727]\n",
      "  [1.42905338 0.93465566 0.95546175 1.05368128 1.27102864 1.06989407\n",
      "   0.70071814]\n",
      "  [1.65454918 0.94475822 0.98748615 1.27102864 1.26199286 1.12528993\n",
      "   0.61105267]\n",
      "  [1.17552939 1.00176591 1.01423112 1.06989407 1.12528993 0.94568\n",
      "   0.83250697]\n",
      "  [0.41460108 0.9930351  0.94706727 0.70071814 0.61105267 0.83250697\n",
      "   1.08970912]]]\n"
     ]
    }
   ],
   "source": [
    "# Calculate mean normalized allegiance\n",
    "n_net = len(eval(f'unique_networks_98')); # number of unique systems\n",
    "print(n_net)\n",
    "\n",
    "norm_mean_allegiance = np.zeros((P.shape[2], n_net, n_net)) # initialise allegiance matrix\n",
    "\n",
    "\n",
    "for i in range(P.shape[2]):\n",
    "    print(f'Frequency band {i+1}')\n",
    "    norm_mean_allegiance[i,:,:] = normalize_networks_mean(P[:,:,i], eval(f'labels_98'), 1000)\n",
    "    \n",
    "print(norm_mean_allegiance)\n",
    "\n",
    "np.save('Computed_recruitment_integration/whole-brain_normalised_mean_allegiance.npy', norm_mean_allegiance)"
   ]
  },
  {
   "cell_type": "markdown",
   "metadata": {},
   "source": [
    "### Save results as tidy dataframe"
   ]
  },
  {
   "cell_type": "code",
   "execution_count": 36,
   "metadata": {},
   "outputs": [
    {
     "name": "stdout",
     "output_type": "stream",
     "text": [
      "  Frequency band Network        AU        DM        FP       SAL       SEN  \\\n",
      "0           beta      AU  1.239956  0.831035  0.851722  1.424019  1.411539   \n",
      "0           beta      DM  0.831035  0.979530  1.070643  0.889413  0.889888   \n",
      "0           beta      FP  0.851722  1.070643  1.035063  0.846706  0.847919   \n",
      "0           beta     SAL  1.424019  0.889413  0.846706  1.221124  1.424532   \n",
      "0           beta     SEN  1.411539  0.889888  0.847919  1.424532  1.256236   \n",
      "0           beta     SUB  1.269222  0.964324  0.926540  1.280717  1.276715   \n",
      "0           beta     VIS  0.741787  0.863376  0.798257  0.826289  0.807933   \n",
      "0          alpha      AU  1.348725  0.890596  0.868010  1.484051  1.490293   \n",
      "0          alpha      DM  0.890596  0.969769  1.117146  0.929991  0.958276   \n",
      "0          alpha      FP  0.868010  1.117146  1.098388  0.900260  0.929115   \n",
      "0          alpha     SAL  1.484051  0.929991  0.900260  1.163034  1.394274   \n",
      "0          alpha     SEN  1.490293  0.958276  0.929115  1.394274  1.233258   \n",
      "0          alpha     SUB  1.402317  0.987454  0.998239  1.299470  1.325145   \n",
      "0          alpha     VIS  0.546773  0.754356  0.660811  0.664437  0.629186   \n",
      "0          delta      AU  1.446070  0.820083  0.998506  1.497930  1.544621   \n",
      "0          delta      DM  0.820083  0.987578  1.112883  0.912146  0.949658   \n",
      "0          delta      FP  0.998506  1.112883  1.068437  0.995636  1.056709   \n",
      "0          delta     SAL  1.497930  0.912146  0.995636  1.121400  1.391378   \n",
      "0          delta     SEN  1.544621  0.949658  1.056709  1.391378  1.279227   \n",
      "0          delta     SUB  1.399170  0.979111  1.095507  1.267700  1.345789   \n",
      "0          delta     VIS  0.447224  0.728838  0.410780  0.646866  0.543936   \n",
      "0          theta      AU  1.453663  0.869989  0.974810  1.540491  1.572085   \n",
      "0          theta      DM  0.869989  1.019558  1.186956  0.897688  0.979986   \n",
      "0          theta      FP  0.974810  1.186956  1.138049  0.946548  1.075784   \n",
      "0          theta     SAL  1.540491  0.897688  0.946548  1.151722  1.403487   \n",
      "0          theta     SEN  1.572085  0.979986  1.075784  1.403487  1.233304   \n",
      "0          theta     SUB  1.350936  0.998062  1.078819  1.245320  1.298292   \n",
      "0          theta     VIS  0.507812  0.626700  0.326961  0.682876  0.540277   \n",
      "0         gamma1      AU  1.529290  0.849420  0.863330  1.332538  1.449664   \n",
      "0         gamma1      DM  0.849420  0.988744  1.092949  0.931079  0.921461   \n",
      "0         gamma1      FP  0.863330  1.092949  1.071313  0.926983  0.930332   \n",
      "0         gamma1     SAL  1.332538  0.931079  0.926983  0.999494  1.183032   \n",
      "0         gamma1     SEN  1.449664  0.921461  0.930332  1.183032  1.094156   \n",
      "0         gamma1     SUB  1.127743  0.990854  1.028738  1.055276  1.080069   \n",
      "0         gamma1     VIS  0.650370  1.049784  1.002642  0.832912  0.779090   \n",
      "0         gamma2      AU  1.768330  0.882708  0.955900  1.429053  1.654549   \n",
      "0         gamma2      DM  0.882708  1.001808  1.055037  0.934656  0.944758   \n",
      "0         gamma2      FP  0.955900  1.055037  0.977578  0.955462  0.987486   \n",
      "0         gamma2     SAL  1.429053  0.934656  0.955462  1.053681  1.271029   \n",
      "0         gamma2     SEN  1.654549  0.944758  0.987486  1.271029  1.261993   \n",
      "0         gamma2     SUB  1.175529  1.001766  1.014231  1.069894  1.125290   \n",
      "0         gamma2     VIS  0.414601  0.993035  0.947067  0.700718  0.611053   \n",
      "\n",
      "        SUB       VIS  \n",
      "0  1.269222  0.741787  \n",
      "0  0.964324  0.863376  \n",
      "0  0.926540  0.798257  \n",
      "0  1.280717  0.826289  \n",
      "0  1.276715  0.807933  \n",
      "0  1.088849  0.745245  \n",
      "0  0.745245  1.357612  \n",
      "0  1.402317  0.546773  \n",
      "0  0.987454  0.754356  \n",
      "0  0.998239  0.660811  \n",
      "0  1.299470  0.664437  \n",
      "0  1.325145  0.629186  \n",
      "0  1.106827  0.491482  \n",
      "0  0.491482  1.756743  \n",
      "0  1.399170  0.447224  \n",
      "0  0.979111  0.728838  \n",
      "0  1.095507  0.410780  \n",
      "0  1.267700  0.646866  \n",
      "0  1.345789  0.543936  \n",
      "0  1.070340  0.502710  \n",
      "0  0.502710  2.008083  \n",
      "0  1.350936  0.507812  \n",
      "0  0.998062  0.626700  \n",
      "0  1.078819  0.326961  \n",
      "0  1.245320  0.682876  \n",
      "0  1.298292  0.540277  \n",
      "0  1.006709  0.557744  \n",
      "0  0.557744  1.962691  \n",
      "0  1.127743  0.650370  \n",
      "0  0.990854  1.049784  \n",
      "0  1.028738  1.002642  \n",
      "0  1.055276  0.832912  \n",
      "0  1.080069  0.779090  \n",
      "0  0.912130  0.904925  \n",
      "0  0.904925  1.090739  \n",
      "0  1.175529  0.414601  \n",
      "0  1.001766  0.993035  \n",
      "0  1.014231  0.947067  \n",
      "0  1.069894  0.700718  \n",
      "0  1.125290  0.611053  \n",
      "0  0.945680  0.832507  \n",
      "0  0.832507  1.089709  \n",
      "  Frequency band Network  Recruitment\n",
      "0           beta      AU     1.239956\n",
      "0           beta      DM     0.979530\n",
      "0           beta      FP     1.035063\n",
      "0           beta     SAL     1.221124\n",
      "0           beta     SEN     1.256236\n",
      "0           beta     SUB     1.088849\n",
      "0           beta     VIS     1.357612\n",
      "0          alpha      AU     1.348725\n",
      "0          alpha      DM     0.969769\n",
      "0          alpha      FP     1.098388\n",
      "0          alpha     SAL     1.163034\n",
      "0          alpha     SEN     1.233258\n",
      "0          alpha     SUB     1.106827\n",
      "0          alpha     VIS     1.756743\n",
      "0          delta      AU     1.446070\n",
      "0          delta      DM     0.987578\n",
      "0          delta      FP     1.068437\n",
      "0          delta     SAL     1.121400\n",
      "0          delta     SEN     1.279227\n",
      "0          delta     SUB     1.070340\n",
      "0          delta     VIS     2.008083\n",
      "0          theta      AU     1.453663\n",
      "0          theta      DM     1.019558\n",
      "0          theta      FP     1.138049\n",
      "0          theta     SAL     1.151722\n",
      "0          theta     SEN     1.233304\n",
      "0          theta     SUB     1.006709\n",
      "0          theta     VIS     1.962691\n",
      "0         gamma1      AU     1.529290\n",
      "0         gamma1      DM     0.988744\n",
      "0         gamma1      FP     1.071313\n",
      "0         gamma1     SAL     0.999494\n",
      "0         gamma1     SEN     1.094156\n",
      "0         gamma1     SUB     0.912130\n",
      "0         gamma1     VIS     1.090739\n",
      "0         gamma2      AU     1.768330\n",
      "0         gamma2      DM     1.001808\n",
      "0         gamma2      FP     0.977578\n",
      "0         gamma2     SAL     1.053681\n",
      "0         gamma2     SEN     1.261993\n",
      "0         gamma2     SUB     0.945680\n",
      "0         gamma2     VIS     1.089709\n"
     ]
    }
   ],
   "source": [
    "# Create tidy data frame from mean allegiance values\n",
    "norm_mean_allegiance = np.load(f'Computed_recruitment_integration/whole-brain_normalised_mean_allegiance.npy')\n",
    "\n",
    "# initialise databases\n",
    "normalized_measures = pd.DataFrame()\n",
    "recruitment = pd.DataFrame()\n",
    "\n",
    "frequency_bands = ['beta', 'alpha', 'delta', 'theta', 'gamma1', 'gamma2'] # need to check the order of these bands\n",
    "\n",
    "for j , freq in enumerate(frequency_bands):\n",
    "\n",
    "    for k, net1 in enumerate(eval(f'unique_networks_98')): \n",
    "            \n",
    "        networks_allegiance = pd.DataFrame()\n",
    "            \n",
    "        for l, net2 in enumerate(eval(f'unique_networks_98')):\n",
    "                \n",
    "            norm_net_allegiance = norm_mean_allegiance[j,k,l]\n",
    "            pre = pd.DataFrame([[freq, net1, norm_net_allegiance]], \n",
    "                                columns=['Frequency band', 'Network', f'{net2}']) \n",
    "            if net1 == net2:\n",
    "                recruitment = pd.concat((recruitment, pd.DataFrame([[freq, \n",
    "                                                                     net1, \n",
    "                                                                     norm_net_allegiance]], \n",
    "                                columns=['Frequency band', 'Network', 'Recruitment']))) \n",
    "            if l == 0:\n",
    "                networks_allegiance = pre\n",
    "            if l > 0:\n",
    "                networks_allegiance = pd.merge(networks_allegiance, pre, on = ['Frequency band', 'Network'])\n",
    "            \n",
    "        normalized_measures = pd.concat((normalized_measures, networks_allegiance), axis=0)\n",
    "\n",
    "print(normalized_measures)\n",
    "print(recruitment)\n",
    "            \n",
    "            \n",
    "normalized_measures.to_csv(f'Computed_recruitment_integration/whole-brain_normalized_mean_allegiance_tidy.csv', index=False)\n",
    "recruitment.to_csv(f'Computed_recruitment_integration/whole-brain_normalized_recruitment_tidy.csv', index=False)\n"
   ]
  },
  {
   "cell_type": "markdown",
   "metadata": {},
   "source": [
    "-------------------------------------"
   ]
  },
  {
   "cell_type": "markdown",
   "metadata": {},
   "source": [
    "### Exploration plots"
   ]
  },
  {
   "cell_type": "code",
   "execution_count": 42,
   "metadata": {
    "scrolled": true
   },
   "outputs": [
    {
     "data": {
      "image/png": "[encoded data removed]",
      "text/plain": [
       "<Figure size 1584x720 with 6 Axes>"
      ]
     },
     "metadata": {},
     "output_type": "display_data"
    }
   ],
   "source": [
    "fig, ax = plt.subplots(1,6)\n",
    "fig.set_size_inches(22, 10)\n",
    "\n",
    "frequency_bands = ['beta', 'alpha', 'delta', 'theta', 'gamma1', 'gamma2']\n",
    "\n",
    "for f, freq in enumerate(frequency_bands):\n",
    "    m_na = norm_mean_allegiance[f, :, :]#.mean(axis=0)***\n",
    "    \n",
    "    sns.heatmap(m_na, yticklabels = unique_networks_98,\n",
    "                        xticklabels = unique_networks_98,\n",
    "                        square = True,\n",
    "                        cmap = \"RdBu_r\",\n",
    "                        ax=ax[f],\n",
    "                        cbar=None,\n",
    "                        vmin = 0, vmax = 2)\n",
    "                        #vmin = -0.5, vmax = 3)\n",
    "    \n",
    "# ***In Karolina's code, she uses m_na = norm_mean_allegiance[f, :, :].mean(axis=0)\n",
    "# I think this is to average out the results over multiple subjects, so I may need to do this once I add more \n",
    "# subject data"
   ]
  },
  {
   "cell_type": "code",
   "execution_count": null,
   "metadata": {},
   "outputs": [],
   "source": []
  }
 ],
 "metadata": {
  "kernelspec": {
   "display_name": "Python 3",
   "language": "python",
   "name": "python3"
  },
  "language_info": {
   "codemirror_mode": {
    "name": "ipython",
    "version": 3
   },
   "file_extension": ".py",
   "mimetype": "text/x-python",
   "name": "python",
   "nbconvert_exporter": "python",
   "pygments_lexer": "ipython3",
   "version": "3.7.6"
  }
 },
 "nbformat": 4,
 "nbformat_minor": 4
}
