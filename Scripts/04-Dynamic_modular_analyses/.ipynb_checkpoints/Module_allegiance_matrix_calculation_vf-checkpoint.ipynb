{
 "cells": [
  {
   "cell_type": "markdown",
   "metadata": {},
   "source": [
    "# **Working memory training**: Module allegiance matrix calculation\n",
    "\n",
    "**Last edited:** 22-06-2020\n"
   ]
  },
  {
   "cell_type": "markdown",
   "metadata": {},
   "source": [
    "Step 0:  Loading libraries\n",
    "--------------------------------"
   ]
  },
  {
   "cell_type": "code",
   "execution_count": 1,
   "metadata": {
    "scrolled": false
   },
   "outputs": [],
   "source": [
    "import sys\n",
    "sys.path.append(\"..\")\n",
    "import os\n",
    "\n",
    "%matplotlib inline\n",
    "\n",
    "import scipy.io as sio\n",
    "import numpy as np\n",
    "from nilearn import plotting\n",
    "import pandas as pd\n",
    "import seaborn as sns\n",
    "\n",
    "from scipy import stats\n",
    "from fctools import networks, figures\n",
    "\n",
    "#---- matplotlib settings\n",
    "import matplotlib.pyplot as plt\n",
    "plt.style.use('seaborn-white')\n",
    "plt.rcParams['font.family'] = 'Helvetica'"
   ]
  },
  {
   "cell_type": "markdown",
   "metadata": {},
   "source": [
    "Step 1: Getting module names and color pallete\n",
    "----------------------------------------"
   ]
  },
  {
   "cell_type": "code",
   "execution_count": 2,
   "metadata": {
    "scrolled": false
   },
   "outputs": [
    {
     "data": {
      "image/png": "[encoded data removed]",
      "text/plain": [
       "<Figure size 504x72 with 1 Axes>"
      ]
     },
     "metadata": {},
     "output_type": "display_data"
    }
   ],
   "source": [
    "labels = pd.read_csv('support/module_names.txt', sep = \" \", header = None)\n",
    "\n",
    "\n",
    "power_colors_new = {'AU':'#d182c6', # AU: auditory - pink\n",
    "                'DM':'#ed1126', # DM: default mode - red\n",
    "                'FP':'#f6e838', # FP: frontoparietal - yellow\n",
    "                'SEN':'#6ccadf', # SEN: sensorimotor - light blue\n",
    "                'VIS':'#75df33', # VIS: visual - light green\n",
    "                'SAL':'#00a074', # SAL: salience - dark green\n",
    "                'SUB':'#980000'} # SUB: subcortical - brown\n",
    "\n",
    "                                \n",
    "modules = sorted(labels[0].values) # sort systems alphabetically\n",
    "\n",
    "network_pal = (sns.color_palette(power_colors_new.values()))\n",
    "\n",
    "sns.palplot(sns.color_palette(power_colors_new.values()))\n",
    "\n",
    "network_lut = dict(zip(map(str, np.unique(modules)), network_pal)) # assign (r,b,g) triple to each system\n",
    "\n",
    "network_colors = pd.Series(modules).map(network_lut) # assign (r,b,g) triple to of the 98 ROIs\n",
    "\n",
    "network_colors = np.asarray(network_colors)\n",
    "\n",
    "n_roi = len(labels) # number of ROIs\n",
    "n_net = len(np.unique(modules)) # number of unique systems"
   ]
  },
  {
   "cell_type": "markdown",
   "metadata": {},
   "source": [
    "Step 2: Loading module assignment matrices\n",
    "-------------------------------------------------------------------------------"
   ]
  },
  {
   "cell_type": "code",
   "execution_count": 6,
   "metadata": {
    "scrolled": false
   },
   "outputs": [
    {
     "data": {
      "text/plain": [
       "(100, 98, 28, 6)"
      ]
     },
     "execution_count": 6,
     "metadata": {},
     "output_type": "execute_result"
    }
   ],
   "source": [
    "#mat = sio.loadmat('../Subject_data/Subject_1/modules.mat') # Load community assignment matrix\n",
    "#mat = sio.loadmat('../Subject_data/Subject_1/Adjacency_matrix_results/modules.mat') # Load community assignment matrix\n",
    "mat = sio.loadmat('../Subject_data/Subject_2 (102816)/Correlation_matrix_results/modules.mat')\n",
    "\n",
    "#idx = np.argsort(labels[0]) # Get the alphabetical order of the modules\n",
    "\n",
    "\n",
    "module_assignment = mat['modules']\n",
    "module_assignment.shape\n",
    "\n",
    "#module_assignment = module_assignment[:, idx, :, :]\n"
   ]
  },
  {
   "cell_type": "markdown",
   "metadata": {},
   "source": [
    "Step 3: calculating allegiance matrices\n",
    "-------------------------------------------"
   ]
  },
  {
   "cell_type": "code",
   "execution_count": 7,
   "metadata": {
    "scrolled": false
   },
   "outputs": [
    {
     "name": "stdout",
     "output_type": "stream",
     "text": [
      "Functional band 1\n",
      "Functional band 2\n",
      "Functional band 3\n",
      "Functional band 4\n",
      "Functional band 5\n",
      "Functional band 6\n"
     ]
    }
   ],
   "source": [
    "# Calculating allegiance matrices (mean over optimizations)\n",
    "\n",
    "n_opt = module_assignment.shape[0] # number of optimisations of genLouvain algorithm\n",
    "n_nod = module_assignment.shape[1] # number of ROI\n",
    "n_lay = module_assignment.shape[2] # number of layers/time windows\n",
    "n_fun = module_assignment.shape[3] # number of frequency bands\n",
    "\n",
    "P = np.zeros((n_nod, n_nod, n_fun))\n",
    "\n",
    "for i in range(n_fun):\n",
    "    print(f'Functional band {i+1}')\n",
    "    P[:,:,i] = networks.allegiance_matrix_opti(module_assignment[:,:,:,i]) \n",
    "    # the function allegiance_matrix_opti calculates n x n allegiance matrix P from n x t matrix M, where n \n",
    "    # represents nodes, and t represents time windows. Each value on allegiance matrix P represents the \n",
    "    # probability that node i and node j have been assigned to the same community.\n",
    "    # This is averaged out over the 100 optimisations run of the genLouvain algorithm.\n",
    "    \n",
    "#np.save('Computed_matrices/allegiance_matrix_opt_mean_adj.npy', P)\n",
    "np.save('Computed_matrices/Subject_2/allegiance_matrix_opt_mean_adj.npy', P)"
   ]
  },
  {
   "cell_type": "code",
   "execution_count": 8,
   "metadata": {},
   "outputs": [
    {
     "data": {
      "text/plain": [
       "array([[1.        , 0.10714286, 0.24321429, ..., 0.66857143, 0.08321429,\n",
       "        0.11857143],\n",
       "       [0.10714286, 1.        , 0.24107143, ..., 0.01392857, 0.44142857,\n",
       "        0.39642857],\n",
       "       [0.24321429, 0.24107143, 1.        , ..., 0.32642857, 0.14642857,\n",
       "        0.1275    ],\n",
       "       ...,\n",
       "       [0.66857143, 0.01392857, 0.32642857, ..., 1.        , 0.01214286,\n",
       "        0.04714286],\n",
       "       [0.08321429, 0.44142857, 0.14642857, ..., 0.01214286, 1.        ,\n",
       "        0.89464286],\n",
       "       [0.11857143, 0.39642857, 0.1275    , ..., 0.04714286, 0.89464286,\n",
       "        1.        ]])"
      ]
     },
     "execution_count": 8,
     "metadata": {},
     "output_type": "execute_result"
    }
   ],
   "source": [
    "P.shape\n",
    "P[:,:,0]"
   ]
  },
  {
   "cell_type": "code",
   "execution_count": 9,
   "metadata": {
    "scrolled": false
   },
   "outputs": [
    {
     "name": "stdout",
     "output_type": "stream",
     "text": [
      "Functional band 1\n",
      "Functional band 2\n",
      "Functional band 3\n",
      "Functional band 4\n",
      "Functional band 5\n",
      "Functional band 6\n"
     ]
    }
   ],
   "source": [
    "# Calculating allegiance matrices for each layer/time window (mean over optimizations)\n",
    "\n",
    "n_opt = module_assignment.shape[0] # number of optimisations of genLouvain algorithm\n",
    "n_nod = module_assignment.shape[1] # number of ROI\n",
    "n_lay = module_assignment.shape[2] # number of layers/time windows\n",
    "n_fun = module_assignment.shape[3] # number of frequency bands\n",
    "\n",
    "W = np.zeros(( n_lay, n_nod, n_nod, n_fun))\n",
    "\n",
    "for i in range(n_fun):\n",
    "    print(f'Functional band {i+1}')\n",
    "    W[:,:,:,i] = networks.all_window_allegiance_mean(module_assignment[:,:,:,i])\n",
    "    # the function all_window_allegiance_mean calculates t x n x n allegiance matrix W from o x n x t matrix M,\n",
    "    # where n represents nodes, t represents time windows, o represents number of optimsations of genLouvain.\n",
    "    \n",
    "#np.save('Computed_matrices/window_allegiance_matrix_opt_mean_adj.npy', W)\n",
    "np.save('Computed_matrices/Subject_2/window_allegiance_matrix_opt_mean_adj.npy', W)"
   ]
  },
  {
   "cell_type": "code",
   "execution_count": 21,
   "metadata": {
    "scrolled": false
   },
   "outputs": [
    {
     "data": {
      "text/plain": [
       "array([[1.        , 0.03928571, 0.93464286, ..., 0.09321429, 0.08392857,\n",
       "        0.13428571],\n",
       "       [0.03928571, 1.        , 0.        , ..., 0.70535714, 0.05428571,\n",
       "        0.70321429],\n",
       "       [0.93464286, 0.        , 1.        , ..., 0.04678571, 0.06678571,\n",
       "        0.09142857],\n",
       "       ...,\n",
       "       [0.09321429, 0.70535714, 0.04678571, ..., 1.        , 0.08107143,\n",
       "        0.56571429],\n",
       "       [0.08392857, 0.05428571, 0.06678571, ..., 0.08107143, 1.        ,\n",
       "        0.18357143],\n",
       "       [0.13428571, 0.70321429, 0.09142857, ..., 0.56571429, 0.18357143,\n",
       "        1.        ]])"
      ]
     },
     "execution_count": 21,
     "metadata": {},
     "output_type": "execute_result"
    }
   ],
   "source": [
    "#print(P)\n",
    "P.shape\n",
    "P[:,:,1]"
   ]
  },
  {
   "cell_type": "code",
   "execution_count": 13,
   "metadata": {
    "scrolled": true
   },
   "outputs": [],
   "source": [
    "#print(W)"
   ]
  },
  {
   "cell_type": "code",
   "execution_count": null,
   "metadata": {
    "scrolled": false
   },
   "outputs": [],
   "source": []
  }
 ],
 "metadata": {
  "kernelspec": {
   "display_name": "Python 3",
   "language": "python",
   "name": "python3"
  },
  "language_info": {
   "codemirror_mode": {
    "name": "ipython",
    "version": 3
   },
   "file_extension": ".py",
   "mimetype": "text/x-python",
   "name": "python",
   "nbconvert_exporter": "python",
   "pygments_lexer": "ipython3",
   "version": "3.7.6"
  }
 },
 "nbformat": 4,
 "nbformat_minor": 2
}
