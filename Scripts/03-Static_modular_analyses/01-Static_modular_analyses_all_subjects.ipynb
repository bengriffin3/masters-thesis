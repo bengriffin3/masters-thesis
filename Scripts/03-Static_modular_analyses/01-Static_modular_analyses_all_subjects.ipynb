{
 "cells": [
  {
   "cell_type": "markdown",
   "metadata": {},
   "source": [
    "# Static modular analysis"
   ]
  },
  {
   "cell_type": "markdown",
   "metadata": {},
   "source": [
    "# Step 0:  Loading libraries\n",
    "--------------------------------"
   ]
  },
  {
   "cell_type": "code",
   "execution_count": 2,
   "metadata": {},
   "outputs": [],
   "source": [
    "# Load packages\n",
    "%matplotlib inline\n",
    "\n",
    "import sys\n",
    "sys.path.append(\"..\")\n",
    "import os\n",
    "\n",
    "import scipy.io as sio\n",
    "import numpy as np\n",
    "from nilearn import plotting \n",
    "import pandas as pd\n",
    "import seaborn as sns\n",
    "import matplotlib.pyplot as plt\n",
    "\n",
    "from scipy import stats\n",
    "\n",
    "#---- matplotlib settings\n",
    "import matplotlib.pyplot as plt\n",
    "plt.style.use('seaborn-white')\n",
    "plt.rcParams['font.family'] = 'Helvetica'\n",
    "\n",
    "\n",
    "import community as community_louvain\n",
    "import matplotlib.cm as cm\n",
    "import matplotlib.pyplot as plt\n",
    "import networkx as nx\n",
    "# Code can be found here: https://python-louvain.readthedocs.io/en/latest/api.html #community.best_partition\n",
    "\n",
    "import statistics\n",
    "import random\n",
    "from collections import Counter\n",
    "\n",
    "# follow permutation method here: https://medium.com/analytics-vidhya/permutation-test-as-an-alternative-to-two-sample-t-test-using-r-9f5da921bc95\n"
   ]
  },
  {
   "cell_type": "markdown",
   "metadata": {},
   "source": [
    "# Step 1: Compute communities via Louvain algorithm (inc calculating modularity)"
   ]
  },
  {
   "cell_type": "code",
   "execution_count": 6,
   "metadata": {},
   "outputs": [],
   "source": [
    "# Load data\n",
    "mat_f = sio.loadmat('../../Data/06-Sex_analyses/01-Adjacency_matrices/Females_adj_matrices.mat')\n",
    "female_adj = mat_f['Females_adj_matrices']\n",
    "mat_m = sio.loadmat('../../Data/06-Sex_analyses/01-Adjacency_matrices/Males_adj_matrices.mat')\n",
    "male_adj = mat_m['Males_adj_matrices']"
   ]
  },
  {
   "cell_type": "code",
   "execution_count": 7,
   "metadata": {},
   "outputs": [
    {
     "name": "stdout",
     "output_type": "stream",
     "text": [
      "0\n",
      "1\n",
      "2\n",
      "3\n",
      "4\n",
      "5\n",
      "6\n",
      "7\n",
      "8\n",
      "9\n",
      "10\n",
      "11\n",
      "12\n",
      "13\n",
      "14\n"
     ]
    }
   ],
   "source": [
    "n_sub = 15 # number of subjects per group\n",
    "n_roi = 98\n",
    "n_freq = 6\n",
    "\n",
    "# Form graphs\n",
    "assigned_systems_f = np.zeros((n_sub,n_roi,n_freq))\n",
    "assigned_systems_m = np.zeros((n_sub,n_roi,n_freq))\n",
    "\n",
    "modularity_f = np.zeros((n_sub,n_freq))\n",
    "modularity_m = np.zeros((n_sub,n_freq))\n",
    "\n",
    "for sub in range(n_sub):\n",
    "    print(sub)\n",
    "    for freq in range(n_freq):\n",
    "        # Convert matrix to a networkx graph (f+m)\n",
    "        Female_mat_plot = female_adj[:,:,freq,sub]\n",
    "        Male_mat_plot = male_adj[:,:,freq,sub]\n",
    "        \n",
    "        D_f = nx.Graph(Female_mat_plot)\n",
    "        D_m = nx.Graph(Male_mat_plot)\n",
    "\n",
    "        # compute the best partition and store the assigned systems in new array\n",
    "        partition_f = community_louvain.best_partition(D_f)\n",
    "        partition_m = community_louvain.best_partition(D_m)\n",
    "        \n",
    "        # Compute modularity of selected partition\n",
    "        modularity_f[sub,freq] = community_louvain.modularity(partition_f, D_f)\n",
    "        modularity_m[sub,freq] = community_louvain.modularity(partition_m, D_m)\n",
    "        \n",
    "        \n",
    "        # Assign system\n",
    "        system_affiliation_f = list(partition_f.values())\n",
    "        system_affiliation_m = list(partition_m.values())\n",
    "        \n",
    "        assigned_systems_f[sub,:,freq] = system_affiliation_f\n",
    "        assigned_systems_m[sub,:,freq] = system_affiliation_m\n",
    "        "
   ]
  },
  {
   "cell_type": "markdown",
   "metadata": {},
   "source": [
    "# Step 2: Calculating NMI of networks"
   ]
  },
  {
   "cell_type": "code",
   "execution_count": 14,
   "metadata": {},
   "outputs": [],
   "source": [
    "def NMI_func(A, B):\n",
    "    # Note number of comunities in female and male partitions\n",
    "    C_F = len(np.unique(A))\n",
    "    C_M = len(np.unique(B))\n",
    "\n",
    "    # Form N_i and N_j and store as array\n",
    "    N_i = np.fromiter(Counter(A).values(), dtype=float)\n",
    "    N_j = np.fromiter(Counter(B).values(), dtype=float)\n",
    "\n",
    "    # Fill in N_ij\n",
    "    N_ij = np.zeros((C_F,C_M))\n",
    "    for i in range(C_F):\n",
    "        for j in range(C_M):\n",
    "            A_i = ((A == i))*1\n",
    "            B_j = (B == j)*1\n",
    "            N_ij[i,j] = sum(np.multiply(A_i,B_j))\n",
    "    \n",
    "    # Numerator\n",
    "    num_sum = 0\n",
    "    for i in range(C_F):\n",
    "        for j in range(C_M):\n",
    "            if N_ij[i,j] != 0:\n",
    "                num_sum = num_sum + N_ij[i,j]*np.log((98*N_ij[i,j])/(N_i[i]*N_j[j]))\n",
    "        \n",
    "    num = -2* num_sum\n",
    "    \n",
    "    # Denominator\n",
    "    den = sum(N_i*np.log(N_i/n_roi)) + sum(N_j*np.log(N_j/n_roi))\n",
    "    \n",
    "    \n",
    "    nim = num / den\n",
    "    \n",
    "    return nim"
   ]
  },
  {
   "cell_type": "code",
   "execution_count": 15,
   "metadata": {},
   "outputs": [
    {
     "name": "stdout",
     "output_type": "stream",
     "text": [
      "[0.68048829 0.67667616 0.69449454 0.69744477 0.6663595  0.61369826]\n"
     ]
    }
   ],
   "source": [
    "# Here we calculate the NMI between all 30 subjects\n",
    "assigned_system_all = np.concatenate((assigned_systems_f, assigned_systems_m), axis=0) # join subject data\n",
    "n_sub = 30\n",
    "\n",
    "nmi_within_all = np.zeros((n_sub,n_sub,n_freq))\n",
    "nmi_within_all_mean = np.zeros((n_freq))\n",
    "\n",
    "for freq in range(n_freq):\n",
    "    for sub1 in range(n_sub):\n",
    "        for sub2 in range(n_sub):\n",
    "            subject_comm1 = assigned_system_all[sub1,:,freq]\n",
    "            subject_comm2 = assigned_system_all[sub2,:,freq]\n",
    "            \n",
    "            nmi_within_all[sub1,sub2,freq] = NMI_func(subject_comm1,subject_comm2)\n",
    "    \n",
    "    np.fill_diagonal(nmi_within_all[:,:,freq], 0)\n",
    "    nmi_within_all_mean[freq] = sum(sum(nmi_within_all[:,:,freq])) / (n_sub*(n_sub-1))#.shape\n",
    "    \n",
    "print(nmi_within_all_mean)"
   ]
  },
  {
   "cell_type": "markdown",
   "metadata": {},
   "source": [
    "# Step 3: Comparing networks of different frequency bands"
   ]
  },
  {
   "cell_type": "code",
   "execution_count": 16,
   "metadata": {},
   "outputs": [
    {
     "name": "stdout",
     "output_type": "stream",
     "text": [
      "0\n",
      "1\n",
      "2\n",
      "3\n",
      "4\n",
      "5\n",
      "(30, 30, 6, 6)\n"
     ]
    }
   ],
   "source": [
    "n_freq = 6\n",
    "n_sub = 30\n",
    "nmi_freq_bands = np.zeros((n_sub, n_sub, n_freq,n_freq))\n",
    "\n",
    "for freq1 in range(n_freq):\n",
    "    print(freq1)\n",
    "    for freq2 in range(n_freq):\n",
    "        for sub1 in range(n_sub):\n",
    "            for sub2 in range(n_sub):\n",
    "                nmi_comp_1 = assigned_system_all[sub1,:,freq1]\n",
    "                nmi_comp_2 = assigned_system_all[sub2,:,freq2]\n",
    "        \n",
    "                nmi_freq_bands[sub1, sub2, freq1,freq2] = NMI_func(nmi_comp_1,nmi_comp_2)\n",
    "        \n",
    "\n",
    "print(nmi_freq_bands.shape)\n"
   ]
  },
  {
   "cell_type": "code",
   "execution_count": 17,
   "metadata": {},
   "outputs": [
    {
     "name": "stdout",
     "output_type": "stream",
     "text": [
      "(6, 6)\n",
      "[[0.69113868 0.67371769 0.68505971 0.68470975 0.66313356 0.63085378]\n",
      " [0.67371769 0.68745362 0.68694904 0.68810531 0.65853218 0.62577428]\n",
      " [0.68505971 0.68694904 0.70467805 0.69768515 0.66854373 0.6366526 ]\n",
      " [0.68470975 0.68810531 0.69768515 0.70752994 0.67637863 0.64344249]\n",
      " [0.66313356 0.65853218 0.66854373 0.67637863 0.67748085 0.64132046]\n",
      " [0.63085378 0.62577428 0.6366526  0.64344249 0.64132046 0.62657498]]\n"
     ]
    },
    {
     "data": {
      "image/png": "[encoded data removed]",
      "text/plain": [
       "<Figure size 432x288 with 2 Axes>"
      ]
     },
     "metadata": {},
     "output_type": "display_data"
    }
   ],
   "source": [
    "# Plotting settings for heatmap plot\n",
    "import matplotlib.pyplot as plt\n",
    "plt.rcParams[\"font.family\"] = \"serif\"\n",
    "import matplotlib \n",
    "matplotlib.rc('xtick', labelsize=14) \n",
    "matplotlib.rc('ytick', labelsize=14) \n",
    "\n",
    "# Mean over 30 x 30 subject matrices\n",
    "nmi_freq_bands_mean = (nmi_freq_bands.mean(axis=0)).mean(axis=0)\n",
    "print(nmi_freq_bands_mean.shape)\n",
    "print(nmi_freq_bands_mean)\n",
    "\n",
    "freq_band_list = ['Delta','Theta','Alpha','Beta','Low gamma','High gamma']\n",
    "\n",
    "ax = sns.heatmap(nmi_freq_bands_mean, linewidth = 0.5,xticklabels = freq_band_list, yticklabels = freq_band_list)\n",
    "#plt.title('Mean NMI between frequency bands')\n",
    "plt.show()"
   ]
  },
  {
   "cell_type": "markdown",
   "metadata": {},
   "source": [
    "# Step 4: ANOVA and Tukey test for comparing mean modularity of each frequency band"
   ]
  },
  {
   "cell_type": "code",
   "execution_count": 20,
   "metadata": {},
   "outputs": [
    {
     "data": {
      "text/plain": [
       "F_onewayResult(statistic=60.08207747833361, pvalue=4.017197966289734e-36)"
      ]
     },
     "execution_count": 20,
     "metadata": {},
     "output_type": "execute_result"
    }
   ],
   "source": [
    "### We do two methods just to check results\n",
    "### see https://reneshbedre.github.io/blog/anova.html\n",
    "### Method (i)\n",
    "modularity_store = np.concatenate((modularity_f, modularity_m))\n",
    "\n",
    "import researchpy as rp\n",
    "from scipy.stats import f_oneway\n",
    "#print(rp.summary_cont(d))\n",
    "\n",
    "stats.f_oneway(modularity_store[:,0],modularity_store[:,1],modularity_store[:,2],modularity_store[:,3],modularity_store[:,4],modularity_store[:,5])\n"
   ]
  },
  {
   "cell_type": "code",
   "execution_count": 21,
   "metadata": {},
   "outputs": [
    {
     "name": "stdout",
     "output_type": "stream",
     "text": [
      "60.08207747833361 4.017197966289734e-36\n",
      "     Subjects Frequency_band     value\n",
      "0           0          Delta  0.734091\n",
      "1           1          Delta  0.718500\n",
      "2           2          Delta  0.722278\n",
      "3           3          Delta  0.693696\n",
      "4           4          Delta  0.708888\n",
      "..        ...            ...       ...\n",
      "175        25     High gamma  0.563281\n",
      "176        26     High gamma  0.595571\n",
      "177        27     High gamma  0.594161\n",
      "178        28     High gamma  0.619913\n",
      "179        29     High gamma  0.574066\n",
      "\n",
      "[180 rows x 3 columns]\n"
     ]
    },
    {
     "data": {
      "text/html": [
       "<div>\n",
       "<style scoped>\n",
       "    .dataframe tbody tr th:only-of-type {\n",
       "        vertical-align: middle;\n",
       "    }\n",
       "\n",
       "    .dataframe tbody tr th {\n",
       "        vertical-align: top;\n",
       "    }\n",
       "\n",
       "    .dataframe thead th {\n",
       "        text-align: right;\n",
       "    }\n",
       "</style>\n",
       "<table border=\"1\" class=\"dataframe\">\n",
       "  <thead>\n",
       "    <tr style=\"text-align: right;\">\n",
       "      <th></th>\n",
       "      <th>sum_sq</th>\n",
       "      <th>df</th>\n",
       "      <th>F</th>\n",
       "      <th>PR(&gt;F)</th>\n",
       "    </tr>\n",
       "  </thead>\n",
       "  <tbody>\n",
       "    <tr>\n",
       "      <th>C(Frequency_band)</th>\n",
       "      <td>0.289010</td>\n",
       "      <td>5.0</td>\n",
       "      <td>60.082077</td>\n",
       "      <td>4.017198e-36</td>\n",
       "    </tr>\n",
       "    <tr>\n",
       "      <th>Residual</th>\n",
       "      <td>0.167397</td>\n",
       "      <td>174.0</td>\n",
       "      <td>NaN</td>\n",
       "      <td>NaN</td>\n",
       "    </tr>\n",
       "  </tbody>\n",
       "</table>\n",
       "</div>"
      ],
      "text/plain": [
       "                     sum_sq     df          F        PR(>F)\n",
       "C(Frequency_band)  0.289010    5.0  60.082077  4.017198e-36\n",
       "Residual           0.167397  174.0        NaN           NaN"
      ]
     },
     "execution_count": 21,
     "metadata": {},
     "output_type": "execute_result"
    }
   ],
   "source": [
    "### Method (ii)\n",
    "d = pd.DataFrame(modularity_store, columns=[\"Delta\", \"Theta\", \"Alpha\", \"Beta\", \"Low gamma\", \"High gamma\"])\n",
    "#d.boxplot(column=[\"Delta\", \"Theta\", \"Alpha\", \"Beta\", \"Low gamma\", \"High gamma\"], grid=False)\n",
    "\n",
    "import scipy.stats as stats\n",
    "# stats f_oneway functions takes the groups as input and returns F and P-value\n",
    "fvalue, pvalue = stats.f_oneway(d['Delta'], d['Theta'], d['Alpha'], d['Beta'],d['Low gamma'],d['High gamma'])\n",
    "print(fvalue, pvalue)\n",
    "# 17.492810457516338 2.639241146210922e-05\n",
    "\n",
    "# get ANOVA table as R like output\n",
    "import statsmodels.api as sm\n",
    "from statsmodels.formula.api import ols\n",
    "# reshape the dataframe suitable for statsmodels package \n",
    "d_melt = pd.melt(d.reset_index(), id_vars=['index'], value_vars=[\"Delta\", \"Theta\", \"Alpha\", \"Beta\", \"Low gamma\", \"High gamma\"])\n",
    "# replace column names\n",
    "d_melt.columns = ['Subjects', 'Frequency_band', 'value']\n",
    "print(d_melt)\n",
    "\n",
    "# Ordinary Least Squares (OLS) model\n",
    "model = ols('value ~ C(Frequency_band)', data=d_melt).fit()\n",
    "anova_table = sm.stats.anova_lm(model, typ=2)\n",
    "anova_table\n",
    "# The p-value obtained from ANOVA analysis is significnat (p<0.0001) and, therefore, we conclude that there are\n",
    "# significant differences among the means of the frequency bands\n"
   ]
  },
  {
   "cell_type": "code",
   "execution_count": 22,
   "metadata": {},
   "outputs": [
    {
     "name": "stdout",
     "output_type": "stream",
     "text": [
      "             A           B   mean(A)   mean(B)      diff        se          T  \\\n",
      "0        Alpha        Beta  0.730829  0.730624  0.000206  0.008009   0.025680   \n",
      "1        Alpha       Delta  0.730829  0.713904  0.016925  0.008009   2.113416   \n",
      "2        Alpha  High gamma  0.730829  0.625793  0.105037  0.008009  13.115620   \n",
      "3        Alpha   Low gamma  0.730829  0.665397  0.065433  0.008009   8.170388   \n",
      "4        Alpha       Theta  0.730829  0.729171  0.001658  0.008009   0.207026   \n",
      "5         Beta       Delta  0.730624  0.713904  0.016720  0.008009   2.087737   \n",
      "6         Beta  High gamma  0.730624  0.625793  0.104831  0.008009  13.089941   \n",
      "7         Beta   Low gamma  0.730624  0.665397  0.065227  0.008009   8.144709   \n",
      "8         Beta       Theta  0.730624  0.729171  0.001452  0.008009   0.181346   \n",
      "9        Delta  High gamma  0.713904  0.625793  0.088112  0.008009  11.002204   \n",
      "10       Delta   Low gamma  0.713904  0.665397  0.048507  0.008009   6.056972   \n",
      "11       Delta       Theta  0.713904  0.729171 -0.015267  0.008009  -1.906391   \n",
      "12  High gamma   Low gamma  0.625793  0.665397 -0.039604  0.008009  -4.945232   \n",
      "13  High gamma       Theta  0.625793  0.729171 -0.103379  0.008009 -12.908595   \n",
      "14   Low gamma       Theta  0.665397  0.729171 -0.063775  0.008009  -7.963363   \n",
      "\n",
      "     p-tukey    hedges  \n",
      "0   0.900000  0.006544  \n",
      "1   0.281965  0.538595  \n",
      "2   0.001000  3.342459  \n",
      "3   0.001000  2.082188  \n",
      "4   0.900000  0.052760  \n",
      "5   0.295328  0.532051  \n",
      "6   0.001000  3.335915  \n",
      "7   0.001000  2.075644  \n",
      "8   0.900000  0.046215  \n",
      "9   0.001000  2.803864  \n",
      "10  0.001000  1.543593  \n",
      "11  0.400556 -0.485835  \n",
      "12  0.001000 -1.260271  \n",
      "13  0.001000 -3.289699  \n",
      "14  0.001000 -2.029428  \n"
     ]
    },
    {
     "name": "stderr",
     "output_type": "stream",
     "text": [
      "/Users/bengriffin/anaconda3/lib/python3.7/site-packages/outdated/utils.py:18: OutdatedPackageWarning: The package pingouin is out of date. Your version is 0.3.7, the latest is 0.3.8.\n",
      "Set the environment variable OUTDATED_IGNORE=1 to disable these warnings.\n",
      "  **kwargs\n"
     ]
    }
   ],
   "source": [
    "### Now we pairwise compare all the frequency bands\n",
    "# load packages\n",
    "from pingouin import pairwise_tukey\n",
    "# perform multiple pairwise comparison (Tukey HSD)\n",
    "# for unbalanced (unequal sample size) data, pairwise_tukey uses Tukey-Kramer test\n",
    "m_comp = pairwise_tukey(data=d_melt, dv='value', between='Frequency_band')\n",
    "print(m_comp)"
   ]
  },
  {
   "cell_type": "markdown",
   "metadata": {},
   "source": [
    "# Step 5: ANOVA and Tukey test for comparing NMI of each frequency band"
   ]
  },
  {
   "cell_type": "code",
   "execution_count": 23,
   "metadata": {},
   "outputs": [
    {
     "name": "stdout",
     "output_type": "stream",
     "text": [
      "(435, 6)\n",
      "(30, 30, 6)\n",
      "0.6804882919580723\n",
      "0.6766761550227893\n",
      "0.6944945372831974\n",
      "0.6974447653111039\n",
      "0.6663595035646406\n",
      "0.6136982585030999\n"
     ]
    }
   ],
   "source": [
    "n_freq = 6\n",
    "nmi_store = np.zeros((435,n_freq))\n",
    "print(nmi_store.shape)\n",
    "print(nmi_within_all.shape)\n",
    "\n",
    "\n",
    "for freq in range(n_freq):\n",
    "    nmi_mean = sum(sum(np.triu(nmi_within_all[:,:,freq])) / ((n_sub*(n_sub-1))/2))\n",
    "    nmi_vec = np.triu(nmi_within_all[:,:,freq]).flatten()\n",
    "    nmi_vec_clean = nmi_vec[nmi_vec != 0]\n",
    "    nmi_store[:,freq] = nmi_vec_clean\n",
    "    print(nmi_mean)\n",
    "    "
   ]
  },
  {
   "cell_type": "code",
   "execution_count": 24,
   "metadata": {},
   "outputs": [
    {
     "name": "stdout",
     "output_type": "stream",
     "text": [
      "\n",
      "\n",
      "     Variable      N    Mean      SD      SE  95% Conf.  Interval\n",
      "0       Delta  435.0  0.6805  0.0575  0.0028     0.6751    0.6859\n",
      "1       Theta  435.0  0.6767  0.0606  0.0029     0.6710    0.6824\n",
      "2       Alpha  435.0  0.6945  0.0523  0.0025     0.6896    0.6994\n",
      "3        Beta  435.0  0.6974  0.0531  0.0025     0.6924    0.7024\n",
      "4   Low gamma  435.0  0.6664  0.0634  0.0030     0.6604    0.6723\n",
      "5  High gamma  435.0  0.6137  0.0804  0.0039     0.6061    0.6213\n"
     ]
    },
    {
     "data": {
      "text/plain": [
       "F_onewayResult(statistic=106.09798549042807, pvalue=3.5432554841185817e-102)"
      ]
     },
     "execution_count": 24,
     "metadata": {},
     "output_type": "execute_result"
    }
   ],
   "source": [
    "d2 = pd.DataFrame(nmi_store, columns=[\"Delta\", \"Theta\", \"Alpha\", \"Beta\", \"Low gamma\", \"High gamma\"])\n",
    "\n",
    "print(rp.summary_cont(d2))\n",
    "stats.f_oneway(nmi_store[:,0],nmi_store[:,1],nmi_store[:,2],nmi_store[:,3],nmi_store[:,4],nmi_store[:,5])"
   ]
  },
  {
   "cell_type": "code",
   "execution_count": 25,
   "metadata": {},
   "outputs": [
    {
     "name": "stdout",
     "output_type": "stream",
     "text": [
      "106.09798549042807 3.5432554841185817e-102\n"
     ]
    }
   ],
   "source": [
    "import scipy.stats as stats\n",
    "# stats f_oneway functions takes the groups as input and returns F and P-value\n",
    "fvalue, pvalue = stats.f_oneway(d2['Delta'], d2['Theta'], d2['Alpha'], d2['Beta'],d2['Low gamma'],d2['High gamma'])\n",
    "print(fvalue, pvalue)"
   ]
  },
  {
   "cell_type": "markdown",
   "metadata": {},
   "source": [
    "### Tukey test"
   ]
  },
  {
   "cell_type": "code",
   "execution_count": 26,
   "metadata": {},
   "outputs": [
    {
     "name": "stdout",
     "output_type": "stream",
     "text": [
      "             A           B   mean(A)   mean(B)      diff        se          T  \\\n",
      "0        Alpha        Beta  0.694495  0.697445 -0.002950  0.004199  -0.702585   \n",
      "1        Alpha       Delta  0.694495  0.680488  0.014006  0.004199   3.335533   \n",
      "2        Alpha  High gamma  0.694495  0.613698  0.080796  0.004199  19.241318   \n",
      "3        Alpha   Low gamma  0.694495  0.666360  0.028135  0.004199   6.700248   \n",
      "4        Alpha       Theta  0.694495  0.676676  0.017818  0.004199   4.243378   \n",
      "5         Beta       Delta  0.697445  0.680488  0.016956  0.004199   4.038118   \n",
      "6         Beta  High gamma  0.697445  0.613698  0.083747  0.004199  19.943903   \n",
      "7         Beta   Low gamma  0.697445  0.666360  0.031085  0.004199   7.402833   \n",
      "8         Beta       Theta  0.697445  0.676676  0.020769  0.004199   4.945963   \n",
      "9        Delta  High gamma  0.680488  0.613698  0.066790  0.004199  15.905785   \n",
      "10       Delta   Low gamma  0.680488  0.666360  0.014129  0.004199   3.364716   \n",
      "11       Delta       Theta  0.680488  0.676676  0.003812  0.004199   0.907845   \n",
      "12  High gamma   Low gamma  0.613698  0.666360 -0.052661  0.004199 -12.541070   \n",
      "13  High gamma       Theta  0.613698  0.676676 -0.062978  0.004199 -14.997940   \n",
      "14   Low gamma       Theta  0.666360  0.676676 -0.010317  0.004199  -2.456870   \n",
      "\n",
      "     p-tukey    hedges  \n",
      "0   0.900000 -0.047599  \n",
      "1   0.011057  0.225975  \n",
      "2   0.001000  1.303556  \n",
      "3   0.001000  0.453927  \n",
      "4   0.001000  0.287479  \n",
      "5   0.001000  0.273573  \n",
      "6   0.001000  1.351154  \n",
      "7   0.001000  0.501525  \n",
      "8   0.001000  0.335078  \n",
      "9   0.001000  1.077581  \n",
      "10  0.010006  0.227952  \n",
      "11  0.900000  0.061504  \n",
      "12  0.001000 -0.849629  \n",
      "13  0.001000 -1.016077  \n",
      "14  0.137027 -0.166447  \n"
     ]
    }
   ],
   "source": [
    "d2_melt = pd.melt(d2.reset_index(), id_vars=['index'], value_vars=[\"Delta\", \"Theta\", \"Alpha\", \"Beta\", \"Low gamma\", \"High gamma\"])\n",
    "# replace column names\n",
    "d2_melt.columns = ['Subjects', 'Frequency_band', 'value']\n",
    "m2_comp = pairwise_tukey(data=d2_melt, dv='value', between='Frequency_band')\n",
    "print(m2_comp)"
   ]
  },
  {
   "cell_type": "code",
   "execution_count": 27,
   "metadata": {},
   "outputs": [
    {
     "data": {
      "text/html": [
       "<div>\n",
       "<style scoped>\n",
       "    .dataframe tbody tr th:only-of-type {\n",
       "        vertical-align: middle;\n",
       "    }\n",
       "\n",
       "    .dataframe tbody tr th {\n",
       "        vertical-align: top;\n",
       "    }\n",
       "\n",
       "    .dataframe thead th {\n",
       "        text-align: right;\n",
       "    }\n",
       "</style>\n",
       "<table border=\"1\" class=\"dataframe\">\n",
       "  <thead>\n",
       "    <tr style=\"text-align: right;\">\n",
       "      <th></th>\n",
       "      <th>sum_sq</th>\n",
       "      <th>df</th>\n",
       "      <th>F</th>\n",
       "      <th>PR(&gt;F)</th>\n",
       "    </tr>\n",
       "  </thead>\n",
       "  <tbody>\n",
       "    <tr>\n",
       "      <th>C(Frequency_band)</th>\n",
       "      <td>2.034462</td>\n",
       "      <td>5.0</td>\n",
       "      <td>106.097985</td>\n",
       "      <td>3.543255e-102</td>\n",
       "    </tr>\n",
       "    <tr>\n",
       "      <th>Residual</th>\n",
       "      <td>9.986501</td>\n",
       "      <td>2604.0</td>\n",
       "      <td>NaN</td>\n",
       "      <td>NaN</td>\n",
       "    </tr>\n",
       "  </tbody>\n",
       "</table>\n",
       "</div>"
      ],
      "text/plain": [
       "                     sum_sq      df           F         PR(>F)\n",
       "C(Frequency_band)  2.034462     5.0  106.097985  3.543255e-102\n",
       "Residual           9.986501  2604.0         NaN            NaN"
      ]
     },
     "execution_count": 27,
     "metadata": {},
     "output_type": "execute_result"
    }
   ],
   "source": [
    "model = ols('value ~ C(Frequency_band)', data=d2_melt).fit()\n",
    "anova_table = sm.stats.anova_lm(model, typ=2)\n",
    "anova_table"
   ]
  },
  {
   "cell_type": "code",
   "execution_count": null,
   "metadata": {},
   "outputs": [],
   "source": []
  }
 ],
 "metadata": {
  "kernelspec": {
   "display_name": "Python 3",
   "language": "python",
   "name": "python3"
  },
  "language_info": {
   "codemirror_mode": {
    "name": "ipython",
    "version": 3
   },
   "file_extension": ".py",
   "mimetype": "text/x-python",
   "name": "python",
   "nbconvert_exporter": "python",
   "pygments_lexer": "ipython3",
   "version": "3.7.6"
  }
 },
 "nbformat": 4,
 "nbformat_minor": 4
}
