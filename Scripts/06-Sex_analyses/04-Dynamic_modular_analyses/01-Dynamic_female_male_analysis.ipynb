{
 "cells": [
  {
   "cell_type": "code",
   "execution_count": 1,
   "metadata": {},
   "outputs": [],
   "source": [
    "# Load packages\n",
    "import sys\n",
    "sys.path.append(\"..\")\n",
    "import os\n",
    "\n",
    "import scipy.io as sio\n",
    "import numpy as np\n",
    "from scipy import stats\n",
    "\n",
    "import random\n",
    "import seaborn as sns\n",
    "\n",
    "import matplotlib.pyplot as plt\n",
    "\n",
    "# follow permutation method here: https://medium.com/analytics-vidhya/permutation-test-as-an-alternative-to-two-sample-t-test-using-r-9f5da921bc95\n"
   ]
  },
  {
   "cell_type": "markdown",
   "metadata": {},
   "source": [
    "# Network community toolbox anaysis\n",
    "\n",
    "Here we investigate the recruitment, integration, flexibility, and promiscuity of the modular allegiance matrices at the node level.\n",
    "\n",
    "We do this by summing the values for each metric across the 98 nodes, and then comparing the mean of this value for 15 females vs 15 males. This is done by performing permutation tests with 10000 permutations."
   ]
  },
  {
   "cell_type": "code",
   "execution_count": 2,
   "metadata": {},
   "outputs": [
    {
     "data": {
      "text/plain": [
       "'/Users/bengriffin/git_repos/Dyngraph/dyngraph-pain/Scripts/06-Sex_analyses/04-Dynamic_modular_analyses'"
      ]
     },
     "execution_count": 2,
     "metadata": {},
     "output_type": "execute_result"
    }
   ],
   "source": [
    "os.getcwd()"
   ]
  },
  {
   "cell_type": "code",
   "execution_count": 7,
   "metadata": {},
   "outputs": [],
   "source": [
    "# Load metric data and join in new array\n",
    "recruitment_all = sio.loadmat('../../../Data/04-Dynamic_modular_analyses/Network_community_toolbox/All_subjects/recruitment_all_subjects.mat')\n",
    "integration_all = sio.loadmat('../../../Data/04-Dynamic_modular_analyses/Network_community_toolbox/All_subjects/integration_all_subjects.mat')\n",
    "flexibility_all = sio.loadmat('../../../Data/04-Dynamic_modular_analyses/Network_community_toolbox/All_subjects/flexibility_all_subjects.mat')\n",
    "promiscuity_all = sio.loadmat('../../../Data/04-Dynamic_modular_analyses/Network_community_toolbox/All_subjects/promiscuity_all_subjects.mat')\n",
    "\n",
    "recr = recruitment_all['Recruitment']\n",
    "integ = integration_all['Integration']\n",
    "flex = flexibility_all['flex_mean']\n",
    "prom = promiscuity_all['prom_mean']\n",
    "\n",
    "n_roi = 98\n",
    "n_freq = 6\n",
    "n_metric = 4\n",
    "metric_array_node = np.stack((recr, integ, flex, prom), axis = 3)\n",
    "metric_array_sum = metric_array_node.sum(axis=0) # We sum up the data so that we can perform the analysis at the highest level\n"
   ]
  },
  {
   "cell_type": "code",
   "execution_count": 8,
   "metadata": {},
   "outputs": [
    {
     "name": "stdout",
     "output_type": "stream",
     "text": [
      "[[0.80497379 1.65902424 0.29607507 1.53405644 2.25119672 1.36166372]\n",
      " [0.79741024 1.61560783 0.07853802 1.25566847 2.17644106 0.55094695]\n",
      " [0.00316049 0.07797531 0.16483951 0.08735802 0.0645679  0.21323457]\n",
      " [0.85813651 0.99448889 0.95166667 1.12965556 0.00534444 1.71294444]]\n"
     ]
    }
   ],
   "source": [
    "metric_female_mean_sum = metric_array_sum[:,0:15,:].mean(axis=1)\n",
    "metric_male_mean_sum = metric_array_sum[:,15:30,:].mean(axis=1)\n",
    "\n",
    "metric_female_mean_node = metric_array_node[:,:,0:15,:].mean(axis=2)\n",
    "metric_male_mean_node = metric_array_node[:,:,15:30,:].mean(axis=2)\n",
    "\n",
    "\n",
    "mean_dif_metric_sum = np.transpose(abs(metric_female_mean_sum - metric_male_mean_sum))\n",
    "mean_dif_metric_node = abs(metric_female_mean_node - metric_male_mean_node)\n",
    "\n",
    "print(mean_dif_metric_sum)"
   ]
  },
  {
   "cell_type": "markdown",
   "metadata": {},
   "source": [
    "### Run permutation test"
   ]
  },
  {
   "cell_type": "code",
   "execution_count": null,
   "metadata": {},
   "outputs": [],
   "source": [
    "# This currently doesn't work for node level, but we don't see any significant results at the highest level so not worth investigating\n",
    "\n",
    "n_roi = 98\n",
    "n_freq = 6\n",
    "n_metric = 4\n",
    "n_perm = 10000\n",
    "\n",
    "null_dist_metric_sum = np.zeros((n_perm,n_metric,n_freq))\n",
    "#null_dist_metric_node = np.zeros((n_perm,n_metric,n_roi,n_freq))\n",
    "\n",
    "p_value_metric_sum = np.zeros((n_metric,n_freq))\n",
    "#p_value_metric_node = np.zeros((n_metric,n_roi,n_freq))\n",
    "\n",
    "\n",
    "\n",
    "for metric in range(n_metric):\n",
    "    for freq in range(n_freq):\n",
    "        data_sum = metric_array_sum[freq,:,metric] # Get the data for all 30 subjects\n",
    "        # Get the data for all 30 subjects and put subject data in first column so that we can random.shuffle (which works along first axis)\n",
    "        #data_node = np.transpose(metric_array_node[:,freq,:,metric],(1,0))\n",
    "        \n",
    "        data_sum_copy = data_sum.copy() # create a copy \n",
    "        #data_node_copy = data_node.copy() # create a copy \n",
    "        random.seed(123) # set seed for reproducibility\n",
    "\n",
    "        # Perform randomization 10000 times\n",
    "        for perm in range(n_perm):\n",
    "            random.shuffle(data_sum_copy)\n",
    "            shuffled_female_sum = data_sum_copy[0:15]\n",
    "            shuffled_male_sum = data_sum_copy[15:30]\n",
    "            \n",
    "            #random.shuffle(data_node_copy) # Why does this affect the sum permutation test? because the random.seed\n",
    "            # changes by 2 each time it assesses the first one\n",
    "            #shuffled_female_node = data_node_copy[0:15,:]\n",
    "            #shuffled_male_node = data_node_copy[15:30,:]\n",
    "            \n",
    "            \n",
    "            null_dist_metric_sum[perm,metric,freq] = abs(shuffled_female_sum.mean(axis=0) - shuffled_male_sum.mean(axis=0))\n",
    "            #null_dist_metric_node[perm,metric,:,freq] = abs(shuffled_female_node.mean(axis=0) - shuffled_male_node.mean(axis=0))\n",
    "    \n",
    "        # Calc number of permutations that are greater than the mean calculated earlier and divide this by number \n",
    "        # of permutations to get the p-values\n",
    "        p_value_metric_sum[metric, freq] = (sum(i > mean_dif_metric_sum[metric,freq] for i in null_dist_metric_sum[:,metric,freq]))/n_perm\n",
    "        #p_value_metric_node[metric, :,freq] = (sum(i > mean_dif_metric_node[:,metric,freq] for i in null_dist_metric_node[:,metric,:,freq]))/n_perm\n",
    "    \n",
    "print(p_value_metric_sum)\n",
    "#print(p_value_metric_node[1,:,1]*98)\n",
    "\n",
    "# test for significance\n",
    "p_value_metric_sum > 0.05\n",
    "\n",
    "# We get that all results are true - this means there is no significant difference in males vs females in terms of\n",
    "# total recruitment/integration/flexibility/promiscuity"
   ]
  },
  {
   "cell_type": "markdown",
   "metadata": {},
   "source": [
    "### System level promiscuity and flexibility (male vs female)"
   ]
  },
  {
   "cell_type": "code",
   "execution_count": 9,
   "metadata": {},
   "outputs": [
    {
     "name": "stdout",
     "output_type": "stream",
     "text": [
      "[16, 17, 72, 73, 74, 75, 76, 77, 78, 79]\n",
      "[8, 9, 14, 15, 24, 25, 26, 27, 32, 33, 58, 59, 60, 61, 80, 81, 90, 91, 92, 93, 94, 95, 96, 97]\n",
      "[2, 3, 4, 5, 6, 7, 22, 23, 54, 55, 82, 83]\n",
      "[10, 11, 12, 13, 28, 29, 52, 53, 56, 57, 84, 85]\n",
      "[0, 1, 18, 19, 50, 51, 62, 63, 86, 87, 88, 89]\n",
      "[20, 21, 30, 31, 34, 35, 64, 65, 66, 67, 68, 69, 70, 71]\n",
      "[36, 37, 38, 39, 40, 41, 42, 43, 44, 45, 46, 47, 48, 49]\n",
      "[10. 24. 12. 12. 12. 14. 14.]\n",
      "(7, 6, 15)\n",
      "(7, 6)\n"
     ]
    }
   ],
   "source": [
    "n_sys = 7\n",
    "n_sub = 30\n",
    "n_freq = 6\n",
    "n_roi = 98\n",
    "\n",
    "system_idx = np.loadtxt('../../../Data/04-Dynamic_modular_analyses/Functional_system_data/Original/AAL_module_assigned_numbers.txt')\n",
    "\n",
    "system_flex = np.zeros((n_sys, n_freq, n_sub))\n",
    "system_prom = np.zeros((n_sys, n_freq, n_sub))\n",
    "system_recr = np.zeros((n_sys, n_freq, n_sub))\n",
    "\n",
    "n_sys_node = np.zeros((n_sys))\n",
    "\n",
    "\n",
    "for sys in range(n_sys):\n",
    "    sys_idx = sys + 1 # We add 1 because system index starts at 1\n",
    "    indices = [i for i, x in enumerate(system_idx) if x == sys_idx]\n",
    "    n_sys_node[sys] = len(indices)\n",
    "    print(indices)\n",
    "    #system_flex[sys,:,:] = sum(flex[indices,:,:])\n",
    "    #system_prom[sys,:,:] = sum(prom[indices,:,:])\n",
    "    \n",
    "    system_flex[sys,:,:] = (sum(flex[indices,:,:]))/n_sys_node[sys]\n",
    "    system_prom[sys,:,:] = sum(prom[indices,:,:])/n_sys_node[sys]\n",
    "    system_recr[sys,:,:] = sum(recr[indices,:,:])/n_sys_node[sys]\n",
    "\n",
    "print(n_sys_node)\n",
    "    \n",
    "system_flex_f = system_flex[:,:,0:15]\n",
    "system_flex_m = system_flex[:,:,15:30]\n",
    "\n",
    "system_prom_f = system_prom[:,:,0:15]\n",
    "system_prom_m = system_prom[:,:,15:30]\n",
    "\n",
    "print(system_flex_f.shape)\n",
    "\n",
    "system_flex_f_mean = system_flex_f.mean(axis=2)\n",
    "system_flex_m_mean = system_flex_m.mean(axis=2)\n",
    "\n",
    "system_prom_f_mean = system_prom_f.mean(axis=2)\n",
    "system_prom_m_mean = system_prom_m.mean(axis=2)\n",
    "\n",
    "print(system_flex_f_mean.shape)\n",
    "\n",
    "mean_dif_system_flex = abs(system_flex_f_mean - system_flex_m_mean)\n",
    "mean_dif_system_prom = abs(system_prom_f_mean - system_prom_m_mean)\n",
    "\n",
    "# Should I normalise each value for the number of nodes that are in each system?\n"
   ]
  },
  {
   "cell_type": "code",
   "execution_count": 10,
   "metadata": {},
   "outputs": [
    {
     "name": "stdout",
     "output_type": "stream",
     "text": [
      "[[0.007494 0.001546 0.001709 0.000042 0.002398 0.004336]\n",
      " [0.005526 0.003404 0.002245 0.001404 0.000452 0.000607]\n",
      " [0.007195 0.012101 0.000728 0.004311 0.003757 0.002578]\n",
      " [0.001630 0.006152 0.003356 0.000909 0.001138 0.001846]\n",
      " [0.006564 0.005486 0.002648 0.000759 0.003128 0.006556]\n",
      " [0.001233 0.007092 0.000677 0.003623 0.000889 0.004085]\n",
      " [0.004818 0.004383 0.007400 0.002025 0.002349 0.004099]]\n",
      "[[0.036650 0.002915 0.010647 0.009208 0.013358 0.035456]\n",
      " [0.014779 0.009337 0.012880 0.012806 0.004200 0.002014]\n",
      " [0.040875 0.055477 0.000877 0.027596 0.033020 0.017028]\n",
      " [0.006864 0.009691 0.013494 0.001697 0.005387 0.020444]\n",
      " [0.026662 0.027521 0.011871 0.005056 0.013439 0.047889]\n",
      " [0.009852 0.032773 0.002311 0.020330 0.000822 0.027952]\n",
      " [0.013173 0.006485 0.033837 0.002388 0.010265 0.028552]]\n"
     ]
    }
   ],
   "source": [
    "np.set_printoptions(formatter={'float_kind':'{:f}'.format})\n",
    "print(mean_dif_system_flex)\n",
    "print(mean_dif_system_prom)"
   ]
  },
  {
   "cell_type": "markdown",
   "metadata": {},
   "source": [
    "### Run permutation test"
   ]
  },
  {
   "cell_type": "code",
   "execution_count": 11,
   "metadata": {},
   "outputs": [
    {
     "name": "stdout",
     "output_type": "stream",
     "text": [
      "0\n",
      "1\n",
      "2\n",
      "3\n",
      "4\n",
      "5\n",
      "6\n",
      "[[0.172700 0.620400 0.496000 0.984300 0.215200 0.091500]\n",
      " [0.207300 0.318900 0.521500 0.462300 0.802400 0.740200]\n",
      " [0.315800 0.086600 0.888800 0.168300 0.051400 0.290800]\n",
      " [0.794300 0.152700 0.408500 0.766000 0.545400 0.495600]\n",
      " [0.236100 0.353900 0.547000 0.811300 0.138000 0.049100]\n",
      " [0.800600 0.091800 0.849000 0.235300 0.711200 0.164900]\n",
      " [0.513200 0.487800 0.137200 0.580200 0.507800 0.317700]]\n",
      "[[0.140000 0.830200 0.324000 0.389900 0.405700 0.099700]\n",
      " [0.481800 0.513000 0.344700 0.117300 0.768400 0.895200]\n",
      " [0.225400 0.070500 0.975600 0.058000 0.034400 0.426300]\n",
      " [0.776000 0.585400 0.409600 0.912200 0.721300 0.380700]\n",
      " [0.300000 0.232700 0.540500 0.674700 0.424200 0.062200]\n",
      " [0.651000 0.041400 0.852500 0.151800 0.965600 0.267300]\n",
      " [0.729800 0.817200 0.165600 0.900500 0.713400 0.354400]]\n",
      "[[ True  True  True  True  True  True]\n",
      " [ True  True  True  True  True  True]\n",
      " [ True  True  True  True  True  True]\n",
      " [ True  True  True  True  True  True]\n",
      " [ True  True  True  True  True False]\n",
      " [ True  True  True  True  True  True]\n",
      " [ True  True  True  True  True  True]]\n",
      "[[ True  True  True  True  True  True]\n",
      " [ True  True  True  True  True  True]\n",
      " [ True  True  True  True False  True]\n",
      " [ True  True  True  True  True  True]\n",
      " [ True  True  True  True  True  True]\n",
      " [ True False  True  True  True  True]\n",
      " [ True  True  True  True  True  True]]\n"
     ]
    }
   ],
   "source": [
    "n_perm = 10000\n",
    "n_sys = 7\n",
    "n_freq = 6\n",
    "\n",
    "null_dist_flex_sys = np.zeros((n_perm,n_sys,n_freq))\n",
    "null_dist_prom_sys = np.zeros((n_perm,n_sys,n_freq))\n",
    "\n",
    "p_value_flex_sum = np.zeros((n_sys,n_freq))\n",
    "p_value_prom_sum = np.zeros((n_sys,n_freq))\n",
    "\n",
    "system_flex_rearranged = np.transpose(system_flex,(2,1,0)) # Put subject data in first column (since random.shuffle works on first column)\n",
    "system_prom_rearranged = np.transpose(system_prom,(2,1,0)) # Put subject data in first column (since random.shuffle works on first column)\n",
    "\n",
    "\n",
    "for sys in range(n_sys):\n",
    "    print(sys)\n",
    "    for freq in range(n_freq):\n",
    "        \n",
    "        data_sum_flex = system_flex_rearranged[:, freq, sys] # Get the data for all 30 subjects and put subject data\n",
    "        data_sum_prom = system_prom_rearranged[:, freq, sys] # Get the data for all 30 subjects and put subject data\n",
    "        \n",
    "        data_sum_flex_copy = data_sum_flex.copy() # create a copy \n",
    "        data_sum_prom_copy = data_sum_prom.copy() # create a copy \n",
    "        random.seed(123) # set seed for reproducibility\n",
    "\n",
    "        # Perform randomisation 10000 times\n",
    "        for perm in range(n_perm):\n",
    "            random.shuffle(data_sum_flex_copy)\n",
    "            random.shuffle(data_sum_prom_copy)\n",
    "            \n",
    "            shuffled_female_sum_flex = data_sum_flex_copy[0:15]\n",
    "            shuffled_male_sum_flex = data_sum_flex_copy[15:30]\n",
    "\n",
    "            shuffled_female_sum_prom = data_sum_prom_copy[0:15]\n",
    "            shuffled_male_sum_prom = data_sum_prom_copy[15:30]\n",
    "            \n",
    "            \n",
    "            null_dist_flex_sys[perm,sys,freq] = abs(shuffled_female_sum_flex.mean(axis=0) - shuffled_male_sum_flex.mean(axis=0))\n",
    "            null_dist_prom_sys[perm,sys,freq] = abs(shuffled_female_sum_prom.mean(axis=0) - shuffled_male_sum_prom.mean(axis=0))\n",
    "\n",
    "    \n",
    "        # Calc number of permutations that are greater than the mean calculated earlier and divide this by number \n",
    "        # of permutations to get the p-values\n",
    "        p_value_flex_sum[sys,freq] = (sum(i > mean_dif_system_flex[sys,freq] for i in null_dist_flex_sys[:,sys,freq]))/n_perm\n",
    "        p_value_prom_sum[sys,freq] = (sum(i > mean_dif_system_prom[sys,freq] for i in null_dist_prom_sys[:,sys,freq]))/n_perm\n",
    "    \n",
    "print(p_value_flex_sum)\n",
    "print(p_value_prom_sum)\n",
    "\n",
    "# test for significance\n",
    "print(p_value_flex_sum > 0.05)\n",
    "print(p_value_prom_sum > 0.05)\n",
    "\n",
    "# We get that all results are true - this means there is no significant difference in males vs females in terms of\n",
    "# system flexibility/promiscuity??"
   ]
  },
  {
   "cell_type": "markdown",
   "metadata": {},
   "source": [
    "### System level promiscuity and flexibility (mean across 30 subjects)"
   ]
  },
  {
   "cell_type": "code",
   "execution_count": 13,
   "metadata": {},
   "outputs": [
    {
     "name": "stdout",
     "output_type": "stream",
     "text": [
      "(7, 6)\n"
     ]
    },
    {
     "data": {
      "text/plain": [
       "Text(0.5, 0, 'Frequency band')"
      ]
     },
     "execution_count": 13,
     "metadata": {},
     "output_type": "execute_result"
    },
    {
     "data": {
      "image/png": "[encoded data removed]",
      "text/plain": [
       "<Figure size 432x288 with 1 Axes>"
      ]
     },
     "metadata": {
      "needs_background": "light"
     },
     "output_type": "display_data"
    }
   ],
   "source": [
    "system_flex_mean = system_flex.mean(axis=2)\n",
    "system_prom_mean = system_prom.mean(axis=2)\n",
    "print(system_flex_mean.shape)\n",
    "system_flex_mean[0,:]\n",
    "\n",
    "plt.plot([1, 2, 3, 4, 5, 6], system_flex_mean[0,:])\n",
    "plt.plot([1, 2, 3, 4, 5, 6], system_flex_mean[1,:])\n",
    "plt.plot([1, 2, 3, 4, 5, 6], system_flex_mean[2,:])\n",
    "plt.plot([1, 2, 3, 4, 5, 6], system_flex_mean[3,:])\n",
    "plt.plot([1, 2, 3, 4, 5, 6], system_flex_mean[4,:])\n",
    "plt.plot([1, 2, 3, 4, 5, 6], system_flex_mean[5,:])\n",
    "plt.plot([1, 2, 3, 4, 5, 6], system_flex_mean[6,:])\n",
    "plt.xlabel('Frequency band')"
   ]
  },
  {
   "cell_type": "code",
   "execution_count": 37,
   "metadata": {},
   "outputs": [
    {
     "data": {
      "text/plain": [
       "Text(0.5, 0, 'Frequency band')"
      ]
     },
     "execution_count": 37,
     "metadata": {},
     "output_type": "execute_result"
    },
    {
     "data": {
      "image/png": "[encoded data removed]",
      "text/plain": [
       "<Figure size 432x288 with 1 Axes>"
      ]
     },
     "metadata": {
      "needs_background": "light"
     },
     "output_type": "display_data"
    }
   ],
   "source": [
    "plt.plot([1, 2, 3, 4, 5, 6], system_prom_mean[0,:])\n",
    "plt.plot([1, 2, 3, 4, 5, 6], system_prom_mean[1,:])\n",
    "plt.plot([1, 2, 3, 4, 5, 6], system_prom_mean[2,:])\n",
    "plt.plot([1, 2, 3, 4, 5, 6], system_prom_mean[3,:])\n",
    "plt.plot([1, 2, 3, 4, 5, 6], system_prom_mean[4,:])\n",
    "plt.plot([1, 2, 3, 4, 5, 6], system_prom_mean[5,:])\n",
    "plt.plot([1, 2, 3, 4, 5, 6], system_prom_mean[6,:])\n",
    "plt.xlabel('Frequency band')"
   ]
  },
  {
   "cell_type": "code",
   "execution_count": 19,
   "metadata": {},
   "outputs": [],
   "source": [
    "# In order to recreate these graphs in MATLAB, we save the system level flexibility and promiscuity\n",
    "import scipy.io\n",
    "scipy.io.savemat('../../../Data/04-Dynamic_modular_analyses/Network_community_toolbox/All_subjects/system_flex.mat', {\"system_flex\":system_flex})\n",
    "scipy.io.savemat('../../../Data/04-Dynamic_modular_analyses/Network_community_toolbox/All_subjects/system_prom.mat', {\"system_prom\":system_prom})"
   ]
  },
  {
   "cell_type": "markdown",
   "metadata": {},
   "source": [
    "# Modular allegiance analysis\n",
    "\n",
    "In this section we investigate the modular allegiance of the brain networks, this time at the system level. We use permutation tests with 10,000 permutations to see if there is a significant difference between males and females for each of the systems:\n",
    "Auditory, default mode, frontoparietal, sensorimotor, visual, salience, subcortical.\n",
    "\n",
    "Note that since frequency bands are independent, we don't have to worry about issues of multiple comparisons regarding them."
   ]
  },
  {
   "cell_type": "code",
   "execution_count": 20,
   "metadata": {},
   "outputs": [
    {
     "name": "stdout",
     "output_type": "stream",
     "text": [
      "(6, 30, 7, 7)\n",
      "(6, 7, 7)\n"
     ]
    }
   ],
   "source": [
    "n_sys = 7\n",
    "# Load metric data and join in new array - let's do normalized to begin with but then maybe also non-normalized\n",
    "recr_integ_all = np.load('../../../Data/04-Dynamic_modular_analyses/Recruitment_Integration/whole-brain_normalised_mean_allegiance.npy')\n",
    "print(recr_integ_all.shape)\n",
    "\n",
    "recr_integ_female_mean = recr_integ_all[:,1:15,:,:].mean(axis=1)\n",
    "recr_integ_male_mean = recr_integ_all[:,15:30,:,:].mean(axis=1)\n",
    "\n",
    "mean_recr_integ = abs(recr_integ_male_mean - recr_integ_female_mean)\n",
    "print(mean_recr_integ.shape)"
   ]
  },
  {
   "cell_type": "code",
   "execution_count": 21,
   "metadata": {},
   "outputs": [
    {
     "name": "stdout",
     "output_type": "stream",
     "text": [
      "0\n",
      "1\n",
      "2\n",
      "3\n",
      "4\n",
      "5\n",
      "[[[0.360500 0.962200 0.677400 0.876200 0.260900 0.495000 0.278900]\n",
      "  [0.962200 0.171000 0.084800 0.713100 0.313100 0.328700 0.474400]\n",
      "  [0.677400 0.084800 0.464700 0.300100 0.087200 0.392100 0.445800]\n",
      "  [0.876200 0.713100 0.300100 0.831900 0.329800 0.885100 0.013100]\n",
      "  [0.260900 0.313100 0.087200 0.329800 0.100800 0.111800 0.064100]\n",
      "  [0.495000 0.328700 0.392100 0.885100 0.111800 0.590000 0.054700]\n",
      "  [0.278900 0.474400 0.445800 0.013100 0.064100 0.054700 0.529400]]\n",
      "\n",
      " [[0.915700 0.314900 0.970100 0.263100 0.159900 0.809700 0.179700]\n",
      "  [0.314900 0.577400 0.176500 0.448100 0.995100 0.898100 0.785800]\n",
      "  [0.970100 0.176500 0.330600 0.927900 0.223600 0.598800 0.871700]\n",
      "  [0.263100 0.448100 0.927900 0.411000 0.540400 0.064200 0.001000]\n",
      "  [0.159900 0.995100 0.223600 0.540400 0.424000 0.283000 0.007600]\n",
      "  [0.809700 0.898100 0.598800 0.064200 0.283000 0.687100 0.799100]\n",
      "  [0.179700 0.785800 0.871700 0.001000 0.007600 0.799100 0.267900]]\n",
      "\n",
      " [[0.092300 0.437800 0.960400 0.276500 0.699900 0.176900 0.128100]\n",
      "  [0.437800 0.612200 0.730100 0.322300 0.506000 0.526900 0.988400]\n",
      "  [0.960400 0.730100 0.855700 0.822700 0.115200 0.907600 0.260800]\n",
      "  [0.276500 0.322300 0.822700 0.144800 0.641300 0.151900 0.070500]\n",
      "  [0.699900 0.506000 0.115200 0.641300 0.307400 0.752700 0.048300]\n",
      "  [0.176900 0.526900 0.907600 0.151900 0.752700 0.883000 0.956800]\n",
      "  [0.128100 0.988400 0.260800 0.070500 0.048300 0.956800 0.553600]]\n",
      "\n",
      " [[0.556500 0.980500 0.561700 0.929200 0.320900 0.627700 0.426200]\n",
      "  [0.980500 0.628300 0.258700 0.343100 0.799000 0.692000 0.481400]\n",
      "  [0.561700 0.258700 0.588800 0.605500 0.828300 0.521200 0.602100]\n",
      "  [0.929200 0.343100 0.605500 0.935000 0.773100 0.493900 0.062000]\n",
      "  [0.320900 0.799000 0.828300 0.773100 0.302300 0.556300 0.369600]\n",
      "  [0.627700 0.692000 0.521200 0.493900 0.556300 0.879500 0.698700]\n",
      "  [0.426200 0.481400 0.602100 0.062000 0.369600 0.698700 0.994700]]\n",
      "\n",
      " [[0.401900 0.389100 0.352600 0.476300 0.365000 0.686200 0.456300]\n",
      "  [0.389100 0.863500 0.511100 0.868500 0.575600 0.281500 0.185100]\n",
      "  [0.352600 0.511100 0.874600 0.915000 0.238500 0.212700 0.338900]\n",
      "  [0.476300 0.868500 0.915000 0.568000 0.540400 0.313300 0.916300]\n",
      "  [0.365000 0.575600 0.238500 0.540400 0.398100 0.767300 0.329200]\n",
      "  [0.686200 0.281500 0.212700 0.313300 0.767300 0.715500 0.537400]\n",
      "  [0.456300 0.185100 0.338900 0.916300 0.329200 0.537400 0.187500]]\n",
      "\n",
      " [[0.670700 0.412000 0.662300 0.312300 0.654800 0.585600 0.044800]\n",
      "  [0.412000 0.627100 0.458300 0.805300 0.250400 0.594800 0.172500]\n",
      "  [0.662300 0.458300 0.263300 0.774000 0.422100 0.404900 0.201500]\n",
      "  [0.312300 0.805300 0.774000 0.374600 0.427300 0.776400 0.495800]\n",
      "  [0.654800 0.250400 0.422100 0.427300 0.312800 0.810500 0.074000]\n",
      "  [0.585600 0.594800 0.404900 0.776400 0.810500 0.567000 0.508400]\n",
      "  [0.044800 0.172500 0.201500 0.495800 0.074000 0.508400 0.064100]]]\n"
     ]
    }
   ],
   "source": [
    "n_perm = 10000\n",
    "n_freq = 6\n",
    "n_sys= 7\n",
    "\n",
    "null_dist_recr_integ = np.zeros((n_perm,n_freq,n_sys,n_sys))\n",
    "p_value_recr_integ = np.zeros((n_freq,n_sys,n_sys ))\n",
    "\n",
    "\n",
    "\n",
    "\n",
    "for freq in range(n_freq):\n",
    "    print(freq)\n",
    "    for sys1 in range(n_sys):\n",
    "        for sys2 in range(n_sys):\n",
    "            data = recr_integ_all[freq,:,sys1,sys2] # Get the data for all 30 subjects\n",
    "\n",
    "            data_copy = data.copy() # create a copy \n",
    "            random.seed(123) # set seed for reproducibility\n",
    "\n",
    "            # Perform randomization 10000 times\n",
    "            for perm in range(n_perm):\n",
    "                random.shuffle(data_copy)\n",
    "                shuffled_female = data_copy[0:15]\n",
    "                shuffled_male = data_copy[15:30]\n",
    "                null_dist_recr_integ[perm,freq,sys1,sys2] = abs(shuffled_female.mean(axis=0) - shuffled_male.mean(axis=0))\n",
    "                \n",
    "            # Calc number of permutations that are greater than the mean calculated earlier and divide this by number \n",
    "            # of permutations to get the p-values\n",
    "            p_value_recr_integ[freq,sys1,sys2] = (sum(i > mean_recr_integ[freq,sys1,sys2] for i in null_dist_recr_integ[:,freq,sys1,sys2]))/n_perm\n",
    "            \n",
    "    \n",
    "    \n",
    "print(p_value_recr_integ)\n",
    "\n"
   ]
  },
  {
   "cell_type": "code",
   "execution_count": 22,
   "metadata": {},
   "outputs": [
    {
     "name": "stdout",
     "output_type": "stream",
     "text": [
      "[[[0.360500 0.962200 0.677400 0.876200 0.260900 0.495000 0.278900]\n",
      "  [0.962200 0.171000 0.084800 0.713100 0.313100 0.328700 0.474400]\n",
      "  [0.677400 0.084800 0.464700 0.300100 0.087200 0.392100 0.445800]\n",
      "  [0.876200 0.713100 0.300100 0.831900 0.329800 0.885100 0.013100]\n",
      "  [0.260900 0.313100 0.087200 0.329800 0.100800 0.111800 0.064100]\n",
      "  [0.495000 0.328700 0.392100 0.885100 0.111800 0.590000 0.054700]\n",
      "  [0.278900 0.474400 0.445800 0.013100 0.064100 0.054700 0.529400]]\n",
      "\n",
      " [[0.915700 0.314900 0.970100 0.263100 0.159900 0.809700 0.179700]\n",
      "  [0.314900 0.577400 0.176500 0.448100 0.995100 0.898100 0.785800]\n",
      "  [0.970100 0.176500 0.330600 0.927900 0.223600 0.598800 0.871700]\n",
      "  [0.263100 0.448100 0.927900 0.411000 0.540400 0.064200 0.001000]\n",
      "  [0.159900 0.995100 0.223600 0.540400 0.424000 0.283000 0.007600]\n",
      "  [0.809700 0.898100 0.598800 0.064200 0.283000 0.687100 0.799100]\n",
      "  [0.179700 0.785800 0.871700 0.001000 0.007600 0.799100 0.267900]]\n",
      "\n",
      " [[0.092300 0.437800 0.960400 0.276500 0.699900 0.176900 0.128100]\n",
      "  [0.437800 0.612200 0.730100 0.322300 0.506000 0.526900 0.988400]\n",
      "  [0.960400 0.730100 0.855700 0.822700 0.115200 0.907600 0.260800]\n",
      "  [0.276500 0.322300 0.822700 0.144800 0.641300 0.151900 0.070500]\n",
      "  [0.699900 0.506000 0.115200 0.641300 0.307400 0.752700 0.048300]\n",
      "  [0.176900 0.526900 0.907600 0.151900 0.752700 0.883000 0.956800]\n",
      "  [0.128100 0.988400 0.260800 0.070500 0.048300 0.956800 0.553600]]\n",
      "\n",
      " [[0.556500 0.980500 0.561700 0.929200 0.320900 0.627700 0.426200]\n",
      "  [0.980500 0.628300 0.258700 0.343100 0.799000 0.692000 0.481400]\n",
      "  [0.561700 0.258700 0.588800 0.605500 0.828300 0.521200 0.602100]\n",
      "  [0.929200 0.343100 0.605500 0.935000 0.773100 0.493900 0.062000]\n",
      "  [0.320900 0.799000 0.828300 0.773100 0.302300 0.556300 0.369600]\n",
      "  [0.627700 0.692000 0.521200 0.493900 0.556300 0.879500 0.698700]\n",
      "  [0.426200 0.481400 0.602100 0.062000 0.369600 0.698700 0.994700]]\n",
      "\n",
      " [[0.401900 0.389100 0.352600 0.476300 0.365000 0.686200 0.456300]\n",
      "  [0.389100 0.863500 0.511100 0.868500 0.575600 0.281500 0.185100]\n",
      "  [0.352600 0.511100 0.874600 0.915000 0.238500 0.212700 0.338900]\n",
      "  [0.476300 0.868500 0.915000 0.568000 0.540400 0.313300 0.916300]\n",
      "  [0.365000 0.575600 0.238500 0.540400 0.398100 0.767300 0.329200]\n",
      "  [0.686200 0.281500 0.212700 0.313300 0.767300 0.715500 0.537400]\n",
      "  [0.456300 0.185100 0.338900 0.916300 0.329200 0.537400 0.187500]]\n",
      "\n",
      " [[0.670700 0.412000 0.662300 0.312300 0.654800 0.585600 0.044800]\n",
      "  [0.412000 0.627100 0.458300 0.805300 0.250400 0.594800 0.172500]\n",
      "  [0.662300 0.458300 0.263300 0.774000 0.422100 0.404900 0.201500]\n",
      "  [0.312300 0.805300 0.774000 0.374600 0.427300 0.776400 0.495800]\n",
      "  [0.654800 0.250400 0.422100 0.427300 0.312800 0.810500 0.074000]\n",
      "  [0.585600 0.594800 0.404900 0.776400 0.810500 0.567000 0.508400]\n",
      "  [0.044800 0.172500 0.201500 0.495800 0.074000 0.508400 0.064100]]]\n",
      "[[[ True  True  True  True  True  True  True]\n",
      "  [ True  True  True  True  True  True  True]\n",
      "  [ True  True  True  True  True  True  True]\n",
      "  [ True  True  True  True  True  True False]\n",
      "  [ True  True  True  True  True  True  True]\n",
      "  [ True  True  True  True  True  True  True]\n",
      "  [ True  True  True False  True  True  True]]\n",
      "\n",
      " [[ True  True  True  True  True  True  True]\n",
      "  [ True  True  True  True  True  True  True]\n",
      "  [ True  True  True  True  True  True  True]\n",
      "  [ True  True  True  True  True  True False]\n",
      "  [ True  True  True  True  True  True False]\n",
      "  [ True  True  True  True  True  True  True]\n",
      "  [ True  True  True False False  True  True]]\n",
      "\n",
      " [[ True  True  True  True  True  True  True]\n",
      "  [ True  True  True  True  True  True  True]\n",
      "  [ True  True  True  True  True  True  True]\n",
      "  [ True  True  True  True  True  True  True]\n",
      "  [ True  True  True  True  True  True False]\n",
      "  [ True  True  True  True  True  True  True]\n",
      "  [ True  True  True  True False  True  True]]\n",
      "\n",
      " [[ True  True  True  True  True  True  True]\n",
      "  [ True  True  True  True  True  True  True]\n",
      "  [ True  True  True  True  True  True  True]\n",
      "  [ True  True  True  True  True  True  True]\n",
      "  [ True  True  True  True  True  True  True]\n",
      "  [ True  True  True  True  True  True  True]\n",
      "  [ True  True  True  True  True  True  True]]\n",
      "\n",
      " [[ True  True  True  True  True  True  True]\n",
      "  [ True  True  True  True  True  True  True]\n",
      "  [ True  True  True  True  True  True  True]\n",
      "  [ True  True  True  True  True  True  True]\n",
      "  [ True  True  True  True  True  True  True]\n",
      "  [ True  True  True  True  True  True  True]\n",
      "  [ True  True  True  True  True  True  True]]\n",
      "\n",
      " [[ True  True  True  True  True  True False]\n",
      "  [ True  True  True  True  True  True  True]\n",
      "  [ True  True  True  True  True  True  True]\n",
      "  [ True  True  True  True  True  True  True]\n",
      "  [ True  True  True  True  True  True  True]\n",
      "  [ True  True  True  True  True  True  True]\n",
      "  [False  True  True  True  True  True  True]]]\n"
     ]
    }
   ],
   "source": [
    "print(p_value_recr_integ)\n",
    "print(p_value_recr_integ>0.05)"
   ]
  },
  {
   "cell_type": "code",
   "execution_count": 23,
   "metadata": {},
   "outputs": [
    {
     "name": "stdout",
     "output_type": "stream",
     "text": [
      "[[[0.360500 0.962200 0.677400 0.876200 0.260900 0.495000 0.278900]\n",
      "  [0.962200 0.171000 0.084800 0.713100 0.313100 0.328700 0.474400]\n",
      "  [0.677400 0.084800 0.464700 0.300100 0.087200 0.392100 0.445800]\n",
      "  [0.876200 0.713100 0.300100 0.831900 0.329800 0.885100 0.013100]\n",
      "  [0.260900 0.313100 0.087200 0.329800 0.100800 0.111800 0.064100]\n",
      "  [0.495000 0.328700 0.392100 0.885100 0.111800 0.590000 0.054700]\n",
      "  [0.278900 0.474400 0.445800 0.013100 0.064100 0.054700 0.529400]]\n",
      "\n",
      " [[0.915700 0.314900 0.970100 0.263100 0.159900 0.809700 0.179700]\n",
      "  [0.314900 0.577400 0.176500 0.448100 0.995100 0.898100 0.785800]\n",
      "  [0.970100 0.176500 0.330600 0.927900 0.223600 0.598800 0.871700]\n",
      "  [0.263100 0.448100 0.927900 0.411000 0.540400 0.064200 0.001000]\n",
      "  [0.159900 0.995100 0.223600 0.540400 0.424000 0.283000 0.007600]\n",
      "  [0.809700 0.898100 0.598800 0.064200 0.283000 0.687100 0.799100]\n",
      "  [0.179700 0.785800 0.871700 0.001000 0.007600 0.799100 0.267900]]\n",
      "\n",
      " [[0.092300 0.437800 0.960400 0.276500 0.699900 0.176900 0.128100]\n",
      "  [0.437800 0.612200 0.730100 0.322300 0.506000 0.526900 0.988400]\n",
      "  [0.960400 0.730100 0.855700 0.822700 0.115200 0.907600 0.260800]\n",
      "  [0.276500 0.322300 0.822700 0.144800 0.641300 0.151900 0.070500]\n",
      "  [0.699900 0.506000 0.115200 0.641300 0.307400 0.752700 0.048300]\n",
      "  [0.176900 0.526900 0.907600 0.151900 0.752700 0.883000 0.956800]\n",
      "  [0.128100 0.988400 0.260800 0.070500 0.048300 0.956800 0.553600]]\n",
      "\n",
      " [[0.556500 0.980500 0.561700 0.929200 0.320900 0.627700 0.426200]\n",
      "  [0.980500 0.628300 0.258700 0.343100 0.799000 0.692000 0.481400]\n",
      "  [0.561700 0.258700 0.588800 0.605500 0.828300 0.521200 0.602100]\n",
      "  [0.929200 0.343100 0.605500 0.935000 0.773100 0.493900 0.062000]\n",
      "  [0.320900 0.799000 0.828300 0.773100 0.302300 0.556300 0.369600]\n",
      "  [0.627700 0.692000 0.521200 0.493900 0.556300 0.879500 0.698700]\n",
      "  [0.426200 0.481400 0.602100 0.062000 0.369600 0.698700 0.994700]]\n",
      "\n",
      " [[0.401900 0.389100 0.352600 0.476300 0.365000 0.686200 0.456300]\n",
      "  [0.389100 0.863500 0.511100 0.868500 0.575600 0.281500 0.185100]\n",
      "  [0.352600 0.511100 0.874600 0.915000 0.238500 0.212700 0.338900]\n",
      "  [0.476300 0.868500 0.915000 0.568000 0.540400 0.313300 0.916300]\n",
      "  [0.365000 0.575600 0.238500 0.540400 0.398100 0.767300 0.329200]\n",
      "  [0.686200 0.281500 0.212700 0.313300 0.767300 0.715500 0.537400]\n",
      "  [0.456300 0.185100 0.338900 0.916300 0.329200 0.537400 0.187500]]\n",
      "\n",
      " [[0.670700 0.412000 0.662300 0.312300 0.654800 0.585600 0.044800]\n",
      "  [0.412000 0.627100 0.458300 0.805300 0.250400 0.594800 0.172500]\n",
      "  [0.662300 0.458300 0.263300 0.774000 0.422100 0.404900 0.201500]\n",
      "  [0.312300 0.805300 0.774000 0.374600 0.427300 0.776400 0.495800]\n",
      "  [0.654800 0.250400 0.422100 0.427300 0.312800 0.810500 0.074000]\n",
      "  [0.585600 0.594800 0.404900 0.776400 0.810500 0.567000 0.508400]\n",
      "  [0.044800 0.172500 0.201500 0.495800 0.074000 0.508400 0.064100]]]\n",
      "[[[ True  True  True  True  True  True  True]\n",
      "  [ True  True  True  True  True  True  True]\n",
      "  [ True  True  True  True  True  True  True]\n",
      "  [ True  True  True  True  True  True  True]\n",
      "  [ True  True  True  True  True  True  True]\n",
      "  [ True  True  True  True  True  True  True]\n",
      "  [ True  True  True  True  True  True  True]]\n",
      "\n",
      " [[ True  True  True  True  True  True  True]\n",
      "  [ True  True  True  True  True  True  True]\n",
      "  [ True  True  True  True  True  True  True]\n",
      "  [ True  True  True  True  True  True False]\n",
      "  [ True  True  True  True  True  True  True]\n",
      "  [ True  True  True  True  True  True  True]\n",
      "  [ True  True  True False  True  True  True]]\n",
      "\n",
      " [[ True  True  True  True  True  True  True]\n",
      "  [ True  True  True  True  True  True  True]\n",
      "  [ True  True  True  True  True  True  True]\n",
      "  [ True  True  True  True  True  True  True]\n",
      "  [ True  True  True  True  True  True  True]\n",
      "  [ True  True  True  True  True  True  True]\n",
      "  [ True  True  True  True  True  True  True]]\n",
      "\n",
      " [[ True  True  True  True  True  True  True]\n",
      "  [ True  True  True  True  True  True  True]\n",
      "  [ True  True  True  True  True  True  True]\n",
      "  [ True  True  True  True  True  True  True]\n",
      "  [ True  True  True  True  True  True  True]\n",
      "  [ True  True  True  True  True  True  True]\n",
      "  [ True  True  True  True  True  True  True]]\n",
      "\n",
      " [[ True  True  True  True  True  True  True]\n",
      "  [ True  True  True  True  True  True  True]\n",
      "  [ True  True  True  True  True  True  True]\n",
      "  [ True  True  True  True  True  True  True]\n",
      "  [ True  True  True  True  True  True  True]\n",
      "  [ True  True  True  True  True  True  True]\n",
      "  [ True  True  True  True  True  True  True]]\n",
      "\n",
      " [[ True  True  True  True  True  True  True]\n",
      "  [ True  True  True  True  True  True  True]\n",
      "  [ True  True  True  True  True  True  True]\n",
      "  [ True  True  True  True  True  True  True]\n",
      "  [ True  True  True  True  True  True  True]\n",
      "  [ True  True  True  True  True  True  True]\n",
      "  [ True  True  True  True  True  True  True]]]\n"
     ]
    }
   ],
   "source": [
    "# test for significance (account for multiple comparisons problems) - uses bonferri correction\n",
    "critical_p_value = 0.05/28#(n_sys*n_sys)\n",
    "print(p_value_recr_integ)\n",
    "print(p_value_recr_integ > critical_p_value)"
   ]
  },
  {
   "cell_type": "code",
   "execution_count": 25,
   "metadata": {},
   "outputs": [
    {
     "data": {
      "image/png": "[encoded data removed]",
      "text/plain": [
       "<Figure size 432x288 with 2 Axes>"
      ]
     },
     "metadata": {
      "needs_background": "light"
     },
     "output_type": "display_data"
    },
    {
     "data": {
      "image/png": "[encoded data removed]",
      "text/plain": [
       "<Figure size 432x288 with 2 Axes>"
      ]
     },
     "metadata": {
      "needs_background": "light"
     },
     "output_type": "display_data"
    },
    {
     "data": {
      "image/png": "[encoded data removed]",
      "text/plain": [
       "<Figure size 432x288 with 2 Axes>"
      ]
     },
     "metadata": {
      "needs_background": "light"
     },
     "output_type": "display_data"
    },
    {
     "data": {
      "image/png": "[encoded data removed]",
      "text/plain": [
       "<Figure size 432x288 with 2 Axes>"
      ]
     },
     "metadata": {
      "needs_background": "light"
     },
     "output_type": "display_data"
    },
    {
     "data": {
      "image/png": "[encoded data removed]",
      "text/plain": [
       "<Figure size 432x288 with 2 Axes>"
      ]
     },
     "metadata": {
      "needs_background": "light"
     },
     "output_type": "display_data"
    },
    {
     "data": {
      "image/png": "[encoded data removed]",
      "text/plain": [
       "<Figure size 432x288 with 2 Axes>"
      ]
     },
     "metadata": {
      "needs_background": "light"
     },
     "output_type": "display_data"
    }
   ],
   "source": [
    "import matplotlib \n",
    "matplotlib.rc('xtick', labelsize=14) \n",
    "matplotlib.rc('ytick', labelsize=14) \n",
    "\n",
    "import matplotlib.pyplot as plt\n",
    "plt.rcParams[\"font.family\"] = \"serif\"\n",
    "n_freq = 6\n",
    "freq_band_list = ['Delta','Theta','Alpha','Beta','Low gamma','High gamma']\n",
    "x_axis_labels = ['AU','DM','FP','SAL','SEN','SUB','VIS']\n",
    "y_axis_labels = ['AU','DM','FP','SAL','SEN','SUB','VIS']\n",
    "\n",
    "for freq in range(n_freq):\n",
    "    uniform_data = p_value_recr_integ[freq,:,:]\n",
    "    ax = sns.heatmap(uniform_data, linewidth=0.5,xticklabels=x_axis_labels, yticklabels=y_axis_labels)\n",
    "    #plt.title(freq_band_list[freq])\n",
    "    plt.show()\n",
    "    "
   ]
  }
 ],
 "metadata": {
  "kernelspec": {
   "display_name": "Python 3",
   "language": "python",
   "name": "python3"
  },
  "language_info": {
   "codemirror_mode": {
    "name": "ipython",
    "version": 3
   },
   "file_extension": ".py",
   "mimetype": "text/x-python",
   "name": "python",
   "nbconvert_exporter": "python",
   "pygments_lexer": "ipython3",
   "version": "3.7.6"
  }
 },
 "nbformat": 4,
 "nbformat_minor": 4
}
